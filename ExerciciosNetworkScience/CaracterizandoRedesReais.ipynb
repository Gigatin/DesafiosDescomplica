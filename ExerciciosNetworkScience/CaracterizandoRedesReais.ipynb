{
 "cells": [
  {
   "cell_type": "code",
   "execution_count": 1,
   "id": "fe486c49",
   "metadata": {},
   "outputs": [],
   "source": [
    "#imports\n",
    "import networkx as nx\n",
    "import pandas as pd\n",
    "import numpy as np\n",
    "import seaborn as sns\n",
    "import scipy\n",
    "import matplotlib.pyplot as plt\n",
    "import requests"
   ]
  },
  {
   "cell_type": "code",
   "execution_count": 2,
   "id": "571cc1e4",
   "metadata": {},
   "outputs": [],
   "source": [
    "#função para downloads de arquivos\n",
    "def download_file(url):\n",
    "    file_path = url.split('/')[-1]\n",
    "    resp = requests.get(url)\n",
    "    with open(file_path, 'wb') as f:\n",
    "        f.write(resp.content)\n",
    "    return file_path"
   ]
  },
  {
   "cell_type": "code",
   "execution_count": 3,
   "id": "9d5e5be2",
   "metadata": {},
   "outputs": [
    {
     "data": {
      "text/plain": [
       "'ca-AstroPh.txt.gz'"
      ]
     },
     "execution_count": 3,
     "metadata": {},
     "output_type": "execute_result"
    }
   ],
   "source": [
    "#rede de colaboração\n",
    "#artigos na area de astrofisica, publicados entre 1993 e 2003\n",
    "#lista de arestas\n",
    "#numero de no e do outro no indicando o numero de arestas entre os 2, cada linha tem 2 nós\n",
    "\n",
    "#baixa o arquivo\n",
    "url = 'https://snap.stanford.edu/data/ca-AstroPh.txt.gz'\n",
    "file_path = download_file(url)\n",
    "file_path"
   ]
  },
  {
   "cell_type": "code",
   "execution_count": 4,
   "id": "5380da9b",
   "metadata": {},
   "outputs": [
    {
     "name": "stdout",
     "output_type": "stream",
     "text": [
      "Graph with 18772 nodes and 198110 edges\n"
     ]
    }
   ],
   "source": [
    "#read_edgelist vai ler o arquivo já q está em formato de lista de arestas\n",
    "\n",
    "#18772 nós e 198110 arestas\n",
    "G = nx.read_edgelist(file_path)\n",
    "print(G)"
   ]
  },
  {
   "cell_type": "code",
   "execution_count": 5,
   "id": "46fa24fe",
   "metadata": {},
   "outputs": [
    {
     "data": {
      "text/plain": [
       "0.0011244455715955115"
      ]
     },
     "execution_count": 5,
     "metadata": {},
     "output_type": "execute_result"
    }
   ],
   "source": [
    "#0.1% de todas as arestas que podem existir na rede\n",
    "\n",
    "nx.density(G)"
   ]
  },
  {
   "cell_type": "code",
   "execution_count": 7,
   "id": "60cf9243",
   "metadata": {},
   "outputs": [
    {
     "data": {
      "text/plain": [
       "False"
      ]
     },
     "execution_count": 7,
     "metadata": {},
     "output_type": "execute_result"
    }
   ],
   "source": [
    "#não é possivel chegar de um pesquisador a qualquer outro ( não é muito conexa)\n",
    "nx.is_connected(G)"
   ]
  },
  {
   "cell_type": "code",
   "execution_count": 8,
   "id": "5ad3471d",
   "metadata": {},
   "outputs": [
    {
     "data": {
      "text/plain": [
       "290"
      ]
     },
     "execution_count": 8,
     "metadata": {},
     "output_type": "execute_result"
    }
   ],
   "source": [
    "#existe 290 grupos nessa rede\n",
    "nx.number_connected_components(G)"
   ]
  },
  {
   "cell_type": "code",
   "execution_count": 9,
   "id": "b3008076",
   "metadata": {},
   "outputs": [
    {
     "ename": "TypeError",
     "evalue": "object of type 'generator' has no len()",
     "output_type": "error",
     "traceback": [
      "\u001b[1;31m---------------------------------------------------------------------------\u001b[0m",
      "\u001b[1;31mTypeError\u001b[0m                                 Traceback (most recent call last)",
      "Cell \u001b[1;32mIn[9], line 2\u001b[0m\n\u001b[0;32m      1\u001b[0m components \u001b[38;5;241m=\u001b[39m nx\u001b[38;5;241m.\u001b[39mconnected_components(G)\n\u001b[1;32m----> 2\u001b[0m \u001b[38;5;28mlen\u001b[39m(nx\u001b[38;5;241m.\u001b[39mconnected_components(G))\n",
      "\u001b[1;31mTypeError\u001b[0m: object of type 'generator' has no len()"
     ]
    }
   ],
   "source": [
    "#aqui retorna um generator, por isso gera o erro\n",
    "components = nx.connected_components(G)\n",
    "len(nx.connected_components(G))"
   ]
  },
  {
   "cell_type": "code",
   "execution_count": 10,
   "id": "74e09ad6",
   "metadata": {},
   "outputs": [
    {
     "data": {
      "text/plain": [
       "290"
      ]
     },
     "execution_count": 10,
     "metadata": {},
     "output_type": "execute_result"
    }
   ],
   "source": [
    "#convertendo pra lista e recebe todos os componentes e calcula o componente\n",
    "#existe 290 componentes\n",
    "components = nx.connected_components(G)\n",
    "len(list(components))"
   ]
  },
  {
   "cell_type": "code",
   "execution_count": 11,
   "id": "25761c5f",
   "metadata": {},
   "outputs": [],
   "source": [
    "#calculando o comprimento de cada componente\n",
    "components = nx.connected_components(G)\n",
    "sizes = []\n",
    "for comp in components:\n",
    "    sizes.append(len(comp))"
   ]
  },
  {
   "cell_type": "code",
   "execution_count": 12,
   "id": "56a264c6",
   "metadata": {},
   "outputs": [],
   "source": [
    "#mesma função que a anterior só que mais compacta\n",
    "components = nx.connected_components(G)\n",
    "sizes = [len(comp) for comp in components]"
   ]
  },
  {
   "cell_type": "code",
   "execution_count": 13,
   "id": "4143001b",
   "metadata": {},
   "outputs": [
    {
     "data": {
      "text/plain": [
       "count      290.000000\n",
       "mean        64.731034\n",
       "std       1051.125146\n",
       "min          1.000000\n",
       "25%          2.000000\n",
       "50%          3.000000\n",
       "75%          3.000000\n",
       "max      17903.000000\n",
       "dtype: float64"
      ]
     },
     "execution_count": 13,
     "metadata": {},
     "output_type": "execute_result"
    }
   ],
   "source": [
    "#tamanhos do componentes conexas\n",
    "#calculando as estatisticas com desgribe\n",
    "#a maior é 17903\n",
    "sizes = pd.Series(sizes)\n",
    "sizes.describe()"
   ]
  },
  {
   "cell_type": "code",
   "execution_count": 14,
   "id": "a1a8bdbf",
   "metadata": {},
   "outputs": [
    {
     "data": {
      "text/plain": [
       "{'115218',\n",
       " '33658',\n",
       " '33040',\n",
       " '31346',\n",
       " '32721',\n",
       " '77999',\n",
       " '64591',\n",
       " '59380',\n",
       " '28394',\n",
       " '129888',\n",
       " '128020',\n",
       " '23779',\n",
       " '120034',\n",
       " '86146',\n",
       " '75264',\n",
       " '17001',\n",
       " '27349',\n",
       " '25061',\n",
       " '64859',\n",
       " '93158',\n",
       " '45997',\n",
       " '19943',\n",
       " '70825',\n",
       " '36466',\n",
       " '25743',\n",
       " '95765',\n",
       " '100813',\n",
       " '94966',\n",
       " '108363',\n",
       " '122562',\n",
       " '79818',\n",
       " '131344',\n",
       " '7824',\n",
       " '302',\n",
       " '48657',\n",
       " '82286',\n",
       " '124796',\n",
       " '20741',\n",
       " '31930',\n",
       " '57511',\n",
       " '68692',\n",
       " '117478',\n",
       " '95681',\n",
       " '118760',\n",
       " '124013',\n",
       " '4445',\n",
       " '125019',\n",
       " '121041',\n",
       " '107056',\n",
       " '81198',\n",
       " '82624',\n",
       " '48360',\n",
       " '114979',\n",
       " '62078',\n",
       " '8310',\n",
       " '48202',\n",
       " '54429',\n",
       " '52870',\n",
       " '89248',\n",
       " '31255',\n",
       " '77883',\n",
       " '131030',\n",
       " '131987',\n",
       " '71077',\n",
       " '88086',\n",
       " '98532',\n",
       " '25372',\n",
       " '5899',\n",
       " '107037',\n",
       " '114648',\n",
       " '129208',\n",
       " '59548',\n",
       " '46863',\n",
       " '15226',\n",
       " '117359',\n",
       " '55408',\n",
       " '28258',\n",
       " '90462',\n",
       " '81463',\n",
       " '85995',\n",
       " '124687',\n",
       " '58136',\n",
       " '105314',\n",
       " '76975',\n",
       " '45052',\n",
       " '120022',\n",
       " '53807',\n",
       " '120802',\n",
       " '61429',\n",
       " '5799',\n",
       " '75875',\n",
       " '128709',\n",
       " '7614',\n",
       " '105595',\n",
       " '63505',\n",
       " '88481',\n",
       " '82870',\n",
       " '34957',\n",
       " '49422',\n",
       " '78765',\n",
       " '92024',\n",
       " '9792',\n",
       " '108502',\n",
       " '30790',\n",
       " '76273',\n",
       " '101841',\n",
       " '122182',\n",
       " '12265',\n",
       " '47895',\n",
       " '69076',\n",
       " '84198',\n",
       " '5904',\n",
       " '104395',\n",
       " '90284',\n",
       " '45169',\n",
       " '39521',\n",
       " '114',\n",
       " '19439',\n",
       " '78194',\n",
       " '74906',\n",
       " '86505',\n",
       " '85409',\n",
       " '100958',\n",
       " '70241',\n",
       " '118568',\n",
       " '113013',\n",
       " '122391',\n",
       " '39949',\n",
       " '53486',\n",
       " '39062',\n",
       " '51791',\n",
       " '65841',\n",
       " '130545',\n",
       " '99254',\n",
       " '77510',\n",
       " '10195',\n",
       " '90402',\n",
       " '129313',\n",
       " '51143',\n",
       " '120705',\n",
       " '24081',\n",
       " '16350',\n",
       " '57875',\n",
       " '123478',\n",
       " '42556',\n",
       " '20714',\n",
       " '54392',\n",
       " '24972',\n",
       " '1341',\n",
       " '36657',\n",
       " '8711',\n",
       " '67064',\n",
       " '116784',\n",
       " '67729',\n",
       " '60043',\n",
       " '27009',\n",
       " '131385',\n",
       " '58169',\n",
       " '50640',\n",
       " '77320',\n",
       " '98155',\n",
       " '80804',\n",
       " '18079',\n",
       " '20518',\n",
       " '98712',\n",
       " '67728',\n",
       " '120252',\n",
       " '494',\n",
       " '16343',\n",
       " '84935',\n",
       " '65497',\n",
       " '36099',\n",
       " '5978',\n",
       " '93131',\n",
       " '44702',\n",
       " '4871',\n",
       " '85841',\n",
       " '67755',\n",
       " '17603',\n",
       " '121959',\n",
       " '103361',\n",
       " '9292',\n",
       " '122664',\n",
       " '46556',\n",
       " '103031',\n",
       " '81310',\n",
       " '99432',\n",
       " '119978',\n",
       " '1370',\n",
       " '65517',\n",
       " '81971',\n",
       " '89067',\n",
       " '110248',\n",
       " '49246',\n",
       " '30362',\n",
       " '83773',\n",
       " '79605',\n",
       " '67661',\n",
       " '33526',\n",
       " '96233',\n",
       " '49799',\n",
       " '128027',\n",
       " '84614',\n",
       " '42551',\n",
       " '90442',\n",
       " '100159',\n",
       " '121210',\n",
       " '106870',\n",
       " '63071',\n",
       " '62227',\n",
       " '61077',\n",
       " '71244',\n",
       " '69965',\n",
       " '87885',\n",
       " '76706',\n",
       " '78558',\n",
       " '40412',\n",
       " '109944',\n",
       " '38687',\n",
       " '25775',\n",
       " '132217',\n",
       " '24649',\n",
       " '78779',\n",
       " '51229',\n",
       " '117734',\n",
       " '1958',\n",
       " '119790',\n",
       " '102424',\n",
       " '7385',\n",
       " '14404',\n",
       " '44069',\n",
       " '86017',\n",
       " '93890',\n",
       " '69861',\n",
       " '56413',\n",
       " '116180',\n",
       " '45439',\n",
       " '95438',\n",
       " '31471',\n",
       " '68020',\n",
       " '16113',\n",
       " '5639',\n",
       " '105035',\n",
       " '111420',\n",
       " '96459',\n",
       " '94260',\n",
       " '104417',\n",
       " '52139',\n",
       " '91321',\n",
       " '131211',\n",
       " '116893',\n",
       " '116880',\n",
       " '52196',\n",
       " '132075',\n",
       " '9696',\n",
       " '111681',\n",
       " '32510',\n",
       " '39339',\n",
       " '127410',\n",
       " '120559',\n",
       " '23253',\n",
       " '122201',\n",
       " '6995',\n",
       " '100735',\n",
       " '17919',\n",
       " '30666',\n",
       " '9612',\n",
       " '2642',\n",
       " '20245',\n",
       " '38232',\n",
       " '60276',\n",
       " '99029',\n",
       " '56223',\n",
       " '113253',\n",
       " '643',\n",
       " '94414',\n",
       " '3432',\n",
       " '92014',\n",
       " '73842',\n",
       " '101475',\n",
       " '26830',\n",
       " '57835',\n",
       " '86700',\n",
       " '83654',\n",
       " '121218',\n",
       " '463',\n",
       " '85113',\n",
       " '95773',\n",
       " '73250',\n",
       " '86965',\n",
       " '30700',\n",
       " '47765',\n",
       " '34218',\n",
       " '100885',\n",
       " '3270',\n",
       " '748',\n",
       " '44344',\n",
       " '86364',\n",
       " '95285',\n",
       " '3',\n",
       " '54750',\n",
       " '57951',\n",
       " '58850',\n",
       " '31304',\n",
       " '76930',\n",
       " '94926',\n",
       " '40607',\n",
       " '1949',\n",
       " '26787',\n",
       " '24895',\n",
       " '40784',\n",
       " '61846',\n",
       " '80498',\n",
       " '117383',\n",
       " '72417',\n",
       " '18442',\n",
       " '17739',\n",
       " '130357',\n",
       " '109072',\n",
       " '113446',\n",
       " '54247',\n",
       " '43892',\n",
       " '86133',\n",
       " '94962',\n",
       " '21629',\n",
       " '131850',\n",
       " '129998',\n",
       " '88131',\n",
       " '17875',\n",
       " '73479',\n",
       " '107717',\n",
       " '94389',\n",
       " '16057',\n",
       " '120491',\n",
       " '4788',\n",
       " '107597',\n",
       " '6442',\n",
       " '16851',\n",
       " '92918',\n",
       " '2520',\n",
       " '84207',\n",
       " '10057',\n",
       " '45451',\n",
       " '28535',\n",
       " '75338',\n",
       " '6880',\n",
       " '114402',\n",
       " '32357',\n",
       " '84511',\n",
       " '132723',\n",
       " '71246',\n",
       " '94330',\n",
       " '54972',\n",
       " '86236',\n",
       " '124631',\n",
       " '100450',\n",
       " '111211',\n",
       " '14579',\n",
       " '58751',\n",
       " '123395',\n",
       " '97553',\n",
       " '3566',\n",
       " '95284',\n",
       " '47829',\n",
       " '75400',\n",
       " '99454',\n",
       " '104400',\n",
       " '113386',\n",
       " '125466',\n",
       " '129149',\n",
       " '11918',\n",
       " '26394',\n",
       " '125345',\n",
       " '2700',\n",
       " '55729',\n",
       " '18445',\n",
       " '7469',\n",
       " '64282',\n",
       " '90506',\n",
       " '32715',\n",
       " '133260',\n",
       " '116579',\n",
       " '17201',\n",
       " '18342',\n",
       " '26477',\n",
       " '33763',\n",
       " '122128',\n",
       " '65567',\n",
       " '28579',\n",
       " '96094',\n",
       " '59821',\n",
       " '43303',\n",
       " '101465',\n",
       " '39435',\n",
       " '3685',\n",
       " '106913',\n",
       " '131527',\n",
       " '87054',\n",
       " '124038',\n",
       " '32654',\n",
       " '9481',\n",
       " '39951',\n",
       " '90099',\n",
       " '101467',\n",
       " '1691',\n",
       " '72114',\n",
       " '25349',\n",
       " '54181',\n",
       " '3607',\n",
       " '8381',\n",
       " '37653',\n",
       " '119869',\n",
       " '46081',\n",
       " '25962',\n",
       " '85296',\n",
       " '25138',\n",
       " '62202',\n",
       " '44083',\n",
       " '6364',\n",
       " '39480',\n",
       " '83091',\n",
       " '85816',\n",
       " '12705',\n",
       " '52480',\n",
       " '30627',\n",
       " '35033',\n",
       " '29767',\n",
       " '11633',\n",
       " '77252',\n",
       " '1217',\n",
       " '5677',\n",
       " '109416',\n",
       " '122668',\n",
       " '26769',\n",
       " '42223',\n",
       " '129011',\n",
       " '41002',\n",
       " '66607',\n",
       " '598',\n",
       " '49487',\n",
       " '98064',\n",
       " '111411',\n",
       " '57660',\n",
       " '109415',\n",
       " '30865',\n",
       " '55559',\n",
       " '34457',\n",
       " '40984',\n",
       " '35907',\n",
       " '25591',\n",
       " '133114',\n",
       " '54414',\n",
       " '46155',\n",
       " '44790',\n",
       " '9414',\n",
       " '45214',\n",
       " '23986',\n",
       " '17442',\n",
       " '114134',\n",
       " '114097',\n",
       " '77253',\n",
       " '101682',\n",
       " '2162',\n",
       " '125954',\n",
       " '7831',\n",
       " '36789',\n",
       " '75858',\n",
       " '27242',\n",
       " '124874',\n",
       " '25536',\n",
       " '49458',\n",
       " '109564',\n",
       " '71466',\n",
       " '129256',\n",
       " '48076',\n",
       " '28257',\n",
       " '92390',\n",
       " '12466',\n",
       " '80742',\n",
       " '5286',\n",
       " '22071',\n",
       " '57461',\n",
       " '78999',\n",
       " '82704',\n",
       " '83016',\n",
       " '52229',\n",
       " '111986',\n",
       " '2682',\n",
       " '90275',\n",
       " '119190',\n",
       " '132619',\n",
       " '42920',\n",
       " '890',\n",
       " '59793',\n",
       " '98315',\n",
       " '123634',\n",
       " '39587',\n",
       " '81941',\n",
       " '22440',\n",
       " '85822',\n",
       " '95242',\n",
       " '37791',\n",
       " '69184',\n",
       " '122747',\n",
       " '116685',\n",
       " '122600',\n",
       " '507',\n",
       " '118028',\n",
       " '122311',\n",
       " '109699',\n",
       " '29758',\n",
       " '63878',\n",
       " '75879',\n",
       " '133029',\n",
       " '78601',\n",
       " '73304',\n",
       " '22462',\n",
       " '13876',\n",
       " '62073',\n",
       " '99621',\n",
       " '22568',\n",
       " '109146',\n",
       " '29769',\n",
       " '30693',\n",
       " '23798',\n",
       " '112509',\n",
       " '12689',\n",
       " '87456',\n",
       " '61497',\n",
       " '69702',\n",
       " '82966',\n",
       " '53599',\n",
       " '47865',\n",
       " '107246',\n",
       " '28538',\n",
       " '122193',\n",
       " '100536',\n",
       " '70898',\n",
       " '85962',\n",
       " '43469',\n",
       " '56302',\n",
       " '10905',\n",
       " '12081',\n",
       " '80593',\n",
       " '72818',\n",
       " '41302',\n",
       " '90604',\n",
       " '25164',\n",
       " '108826',\n",
       " '117817',\n",
       " '10805',\n",
       " '108486',\n",
       " '14506',\n",
       " '7705',\n",
       " '56337',\n",
       " '39244',\n",
       " '17939',\n",
       " '40847',\n",
       " '80831',\n",
       " '126916',\n",
       " '86916',\n",
       " '122568',\n",
       " '106709',\n",
       " '86103',\n",
       " '72423',\n",
       " '73914',\n",
       " '25203',\n",
       " '35930',\n",
       " '78599',\n",
       " '103750',\n",
       " '50220',\n",
       " '109007',\n",
       " '41839',\n",
       " '53054',\n",
       " '38606',\n",
       " '3689',\n",
       " '54423',\n",
       " '15826',\n",
       " '85351',\n",
       " '27222',\n",
       " '79570',\n",
       " '65507',\n",
       " '82886',\n",
       " '64601',\n",
       " '19491',\n",
       " '61632',\n",
       " '104048',\n",
       " '80764',\n",
       " '63883',\n",
       " '120993',\n",
       " '58435',\n",
       " '22437',\n",
       " '65499',\n",
       " '94408',\n",
       " '9193',\n",
       " '61898',\n",
       " '54170',\n",
       " '91787',\n",
       " '120017',\n",
       " '36617',\n",
       " '85775',\n",
       " '36833',\n",
       " '39335',\n",
       " '103785',\n",
       " '48077',\n",
       " '77517',\n",
       " '43470',\n",
       " '27576',\n",
       " '18344',\n",
       " '20814',\n",
       " '5420',\n",
       " '17449',\n",
       " '3842',\n",
       " '59040',\n",
       " '129261',\n",
       " '102523',\n",
       " '120626',\n",
       " '561',\n",
       " '4467',\n",
       " '69228',\n",
       " '96512',\n",
       " '102305',\n",
       " '11038',\n",
       " '99180',\n",
       " '25386',\n",
       " '19812',\n",
       " '32300',\n",
       " '38830',\n",
       " '58682',\n",
       " '68044',\n",
       " '113737',\n",
       " '3289',\n",
       " '132952',\n",
       " '39955',\n",
       " '84005',\n",
       " '63803',\n",
       " '19877',\n",
       " '37942',\n",
       " '2479',\n",
       " '2368',\n",
       " '119766',\n",
       " '9487',\n",
       " '94410',\n",
       " '12997',\n",
       " '109951',\n",
       " '10191',\n",
       " '12148',\n",
       " '80988',\n",
       " '101641',\n",
       " '94780',\n",
       " '128226',\n",
       " '44075',\n",
       " '11117',\n",
       " '27750',\n",
       " '15575',\n",
       " '115774',\n",
       " '121637',\n",
       " '20899',\n",
       " '109103',\n",
       " '62220',\n",
       " '125082',\n",
       " '97110',\n",
       " '19779',\n",
       " '74193',\n",
       " '113426',\n",
       " '96987',\n",
       " '100992',\n",
       " '3423',\n",
       " '39494',\n",
       " '104093',\n",
       " '96913',\n",
       " '94329',\n",
       " '86651',\n",
       " '128016',\n",
       " '64944',\n",
       " '86084',\n",
       " '9648',\n",
       " '29942',\n",
       " '74921',\n",
       " '57295',\n",
       " '115675',\n",
       " '90075',\n",
       " '19407',\n",
       " '59998',\n",
       " '105471',\n",
       " '37519',\n",
       " '67746',\n",
       " '76078',\n",
       " '51638',\n",
       " '64366',\n",
       " '98282',\n",
       " '22570',\n",
       " '54029',\n",
       " '77835',\n",
       " '76217',\n",
       " '54795',\n",
       " '17549',\n",
       " '3532',\n",
       " '46154',\n",
       " '16730',\n",
       " '93889',\n",
       " '29983',\n",
       " '49349',\n",
       " '111641',\n",
       " '124315',\n",
       " '121118',\n",
       " '4430',\n",
       " '157',\n",
       " '103989',\n",
       " '21341',\n",
       " '66538',\n",
       " '38450',\n",
       " '112696',\n",
       " '93530',\n",
       " '19417',\n",
       " '114482',\n",
       " '87036',\n",
       " '116209',\n",
       " '74572',\n",
       " '74054',\n",
       " '98981',\n",
       " '73053',\n",
       " '94538',\n",
       " '92028',\n",
       " '99959',\n",
       " '112734',\n",
       " '4905',\n",
       " '23919',\n",
       " '129852',\n",
       " '65203',\n",
       " '86096',\n",
       " '25535',\n",
       " '107658',\n",
       " '50183',\n",
       " '12600',\n",
       " '133212',\n",
       " '28298',\n",
       " '3121',\n",
       " '72491',\n",
       " '75857',\n",
       " '13142',\n",
       " '94287',\n",
       " '81286',\n",
       " '54361',\n",
       " '129288',\n",
       " '26393',\n",
       " '80400',\n",
       " '114844',\n",
       " '82238',\n",
       " '36052',\n",
       " '52100',\n",
       " '118384',\n",
       " '125365',\n",
       " '36571',\n",
       " '99757',\n",
       " '105441',\n",
       " '108917',\n",
       " '82953',\n",
       " '79515',\n",
       " '21631',\n",
       " '100394',\n",
       " '44011',\n",
       " '108780',\n",
       " '95198',\n",
       " '108500',\n",
       " '130842',\n",
       " '29142',\n",
       " '122169',\n",
       " '60819',\n",
       " '124245',\n",
       " '100752',\n",
       " '108946',\n",
       " '91521',\n",
       " '93179',\n",
       " '82758',\n",
       " '99825',\n",
       " '67891',\n",
       " '24314',\n",
       " '124875',\n",
       " '94840',\n",
       " '13624',\n",
       " '60425',\n",
       " '56975',\n",
       " '19517',\n",
       " '130643',\n",
       " '81170',\n",
       " '44791',\n",
       " '76893',\n",
       " '103698',\n",
       " '179',\n",
       " '29790',\n",
       " '421',\n",
       " '89848',\n",
       " '50983',\n",
       " '97544',\n",
       " '29001',\n",
       " '20735',\n",
       " '82563',\n",
       " '126848',\n",
       " '48301',\n",
       " '23101',\n",
       " '62849',\n",
       " '44516',\n",
       " '83490',\n",
       " '22681',\n",
       " '62045',\n",
       " '105906',\n",
       " '68722',\n",
       " '29787',\n",
       " '92475',\n",
       " '100974',\n",
       " '80207',\n",
       " '86978',\n",
       " '2421',\n",
       " '16032',\n",
       " '112256',\n",
       " '121196',\n",
       " '58666',\n",
       " '66803',\n",
       " '109546',\n",
       " '124599',\n",
       " '101495',\n",
       " '103457',\n",
       " '95251',\n",
       " '10713',\n",
       " '110620',\n",
       " '129331',\n",
       " '57331',\n",
       " '6332',\n",
       " '82483',\n",
       " '40411',\n",
       " '37798',\n",
       " '3781',\n",
       " '123284',\n",
       " '40173',\n",
       " '110994',\n",
       " '45246',\n",
       " '98165',\n",
       " '119286',\n",
       " '80012',\n",
       " '57624',\n",
       " '60164',\n",
       " '58707',\n",
       " '88599',\n",
       " '100354',\n",
       " '116680',\n",
       " '3003',\n",
       " '23139',\n",
       " '110064',\n",
       " '13032',\n",
       " '34810',\n",
       " '131982',\n",
       " '60310',\n",
       " '84032',\n",
       " '87452',\n",
       " '24313',\n",
       " '99717',\n",
       " '102532',\n",
       " '59689',\n",
       " '98873',\n",
       " '22280',\n",
       " '10732',\n",
       " '10168',\n",
       " '51215',\n",
       " '20771',\n",
       " '128114',\n",
       " '18007',\n",
       " '33203',\n",
       " '106652',\n",
       " '33973',\n",
       " '71728',\n",
       " '80440',\n",
       " '31501',\n",
       " '98709',\n",
       " '14783',\n",
       " '77460',\n",
       " '97012',\n",
       " '92538',\n",
       " '57559',\n",
       " '76467',\n",
       " '1461',\n",
       " '12832',\n",
       " '124763',\n",
       " '70776',\n",
       " '33884',\n",
       " '116983',\n",
       " '67127',\n",
       " '66098',\n",
       " '121758',\n",
       " '33202',\n",
       " '16363',\n",
       " '90535',\n",
       " '123243',\n",
       " '20875',\n",
       " '95532',\n",
       " '95535',\n",
       " '21937',\n",
       " '68693',\n",
       " '2214',\n",
       " '95283',\n",
       " '69471',\n",
       " '84527',\n",
       " '55180',\n",
       " '21458',\n",
       " '66160',\n",
       " '30126',\n",
       " '123153',\n",
       " '16346',\n",
       " '54611',\n",
       " '100181',\n",
       " '46497',\n",
       " '62873',\n",
       " '80042',\n",
       " '94634',\n",
       " '54546',\n",
       " '58650',\n",
       " '116319',\n",
       " '44631',\n",
       " '64648',\n",
       " '20779',\n",
       " '38829',\n",
       " '133109',\n",
       " '60712',\n",
       " '72166',\n",
       " '47789',\n",
       " '102731',\n",
       " '129417',\n",
       " '109949',\n",
       " '49352',\n",
       " '109330',\n",
       " '104289',\n",
       " '110257',\n",
       " '63559',\n",
       " '41366',\n",
       " '46063',\n",
       " '82658',\n",
       " '127659',\n",
       " '72984',\n",
       " '115992',\n",
       " '76862',\n",
       " '49741',\n",
       " '128898',\n",
       " '77505',\n",
       " '15160',\n",
       " '110690',\n",
       " '131860',\n",
       " '130664',\n",
       " '72231',\n",
       " '35111',\n",
       " '20218',\n",
       " '46033',\n",
       " '83466',\n",
       " '109270',\n",
       " '91287',\n",
       " '74130',\n",
       " '38725',\n",
       " '101586',\n",
       " '83441',\n",
       " '102855',\n",
       " '26843',\n",
       " '84645',\n",
       " '71389',\n",
       " '119179',\n",
       " '116972',\n",
       " '25483',\n",
       " '66006',\n",
       " '39794',\n",
       " '108930',\n",
       " '62098',\n",
       " '77867',\n",
       " '60308',\n",
       " '16901',\n",
       " '43613',\n",
       " '23121',\n",
       " '75948',\n",
       " '128471',\n",
       " '87233',\n",
       " '101958',\n",
       " '24000',\n",
       " '72610',\n",
       " '4462',\n",
       " '71801',\n",
       " '62119',\n",
       " '70487',\n",
       " '5510',\n",
       " '2264',\n",
       " '50945',\n",
       " '51027',\n",
       " '26909',\n",
       " '1351',\n",
       " '21728',\n",
       " '81296',\n",
       " '126298',\n",
       " '56969',\n",
       " '82770',\n",
       " '59277',\n",
       " '88712',\n",
       " '68434',\n",
       " '5429',\n",
       " '12472',\n",
       " ...}"
      ]
     },
     "execution_count": 14,
     "metadata": {},
     "output_type": "execute_result"
    }
   ],
   "source": [
    "#pegando a maior componente usando a chave len(definindo que queremos o componente com a maior comprimento)\n",
    "components = nx.connected_components(G)\n",
    "nodes = max(components, key=len)\n",
    "nodes"
   ]
  },
  {
   "cell_type": "code",
   "execution_count": 15,
   "id": "8c3bd12e",
   "metadata": {},
   "outputs": [
    {
     "name": "stdout",
     "output_type": "stream",
     "text": [
      "Graph with 17903 nodes and 197031 edges\n"
     ]
    }
   ],
   "source": [
    "#Agora criamos outra rede onde apenas temos os nós conecatados\n",
    "#17k nós e 19k arestas\n",
    "H = G.subgraph(nodes)\n",
    "print(H)"
   ]
  },
  {
   "cell_type": "code",
   "execution_count": 16,
   "id": "5bd4ed97",
   "metadata": {},
   "outputs": [
    {
     "data": {
      "text/plain": [
       "0.9537076496910292"
      ]
     },
     "execution_count": 16,
     "metadata": {},
     "output_type": "execute_result"
    }
   ],
   "source": [
    "#95% dos nós de toda a rede estão nessa componente\n",
    "H.number_of_nodes() / G.number_of_nodes()"
   ]
  },
  {
   "cell_type": "code",
   "execution_count": 17,
   "id": "13209776",
   "metadata": {},
   "outputs": [
    {
     "data": {
      "text/plain": [
       "0.9945535308666902"
      ]
     },
     "execution_count": 17,
     "metadata": {},
     "output_type": "execute_result"
    }
   ],
   "source": [
    "#99% das arestas da rede estão nessa componente\n",
    "H.number_of_edges() / G.number_of_edges()"
   ]
  },
  {
   "cell_type": "code",
   "execution_count": 18,
   "id": "01a34324",
   "metadata": {},
   "outputs": [
    {
     "data": {
      "image/png": "[encoded data removed]",
      "text/plain": [
       "<Figure size 640x480 with 1 Axes>"
      ]
     },
     "metadata": {},
     "output_type": "display_data"
    }
   ],
   "source": [
    "#histograma\n",
    "#distribuição dos graus\n",
    "degree_list = [degree for node, degree in H.degree]\n",
    "degree_list = pd.Series(degree_list)\n",
    "degree_list.hist();"
   ]
  },
  {
   "cell_type": "code",
   "execution_count": 19,
   "id": "47c8ae75",
   "metadata": {},
   "outputs": [
    {
     "data": {
      "text/plain": [
       "count    17903.000000\n",
       "mean        22.010948\n",
       "std         31.016923\n",
       "min          1.000000\n",
       "25%          4.000000\n",
       "50%         10.000000\n",
       "75%         28.000000\n",
       "max        504.000000\n",
       "dtype: float64"
      ]
     },
     "execution_count": 19,
     "metadata": {},
     "output_type": "execute_result"
    }
   ],
   "source": [
    "#descrevendo o histograma\n",
    "#grau medio é 22\n",
    "#mas um pesquisador  que colaborou com 504 pessoas diferentes,um grau bem diferente da media, calda longa\n",
    "degree_list.describe()"
   ]
  },
  {
   "cell_type": "code",
   "execution_count": 20,
   "id": "ded11e22",
   "metadata": {},
   "outputs": [
    {
     "data": {
      "image/png": "[encoded data removed]",
      "text/plain": [
       "<Figure size 640x480 with 1 Axes>"
      ]
     },
     "metadata": {},
     "output_type": "display_data"
    }
   ],
   "source": [
    "#grafico de ranqueamento\n",
    "# escala logaritimica\n",
    "#É uma calda longa mas não é uma rete, sugerindo que não é uma lei de potencia\n",
    "y = degree_list.sort_values(ascending=False)\n",
    "x = range(len(y))\n",
    "plt.plot(x, y)\n",
    "plt.loglog()\n",
    "plt.xlabel('Posição (rank)')\n",
    "plt.ylabel('Grau do nó');"
   ]
  },
  {
   "cell_type": "code",
   "execution_count": 21,
   "id": "0dc54578",
   "metadata": {},
   "outputs": [
    {
     "data": {
      "text/plain": [
       "14"
      ]
     },
     "execution_count": 21,
     "metadata": {},
     "output_type": "execute_result"
    }
   ],
   "source": [
    "#Distancias\n",
    "#diametro é 14 (em 14 passos no piores dos casos chego de um pesquisador a outro)\n",
    "nx.algorithms.approximation.diameter(H)"
   ]
  },
  {
   "cell_type": "code",
   "execution_count": 22,
   "id": "41db69c3",
   "metadata": {},
   "outputs": [
    {
     "data": {
      "text/plain": [
       "['1086',\n",
       " '21718',\n",
       " '35290',\n",
       " '38109',\n",
       " '53213',\n",
       " '92790',\n",
       " '89732',\n",
       " '93504',\n",
       " '62821']"
      ]
     },
     "execution_count": 22,
     "metadata": {},
     "output_type": "execute_result"
    }
   ],
   "source": [
    "#filtrando nos com graus mais altos\n",
    "top_nodes = [node for node, degree in H.degree if degree > 350]\n",
    "top_nodes"
   ]
  },
  {
   "cell_type": "code",
   "execution_count": 24,
   "id": "e1c18d06",
   "metadata": {},
   "outputs": [
    {
     "data": {
      "text/plain": [
       "count    17903.000000\n",
       "mean         2.875663\n",
       "std          0.845950\n",
       "min          0.000000\n",
       "25%          2.000000\n",
       "50%          3.000000\n",
       "75%          3.000000\n",
       "max          9.000000\n",
       "dtype: float64"
      ]
     },
     "execution_count": 24,
     "metadata": {},
     "output_type": "execute_result"
    }
   ],
   "source": [
    "#o nó 1086 consegue chegar em media em 3 passoas a qualquer outro nó\n",
    "istances = nx.shortest_path_length(H, '1086')\n",
    "distances = pd.Series(distances)\n",
    "distances.describe()"
   ]
  },
  {
   "cell_type": "code",
   "execution_count": 25,
   "id": "967a8c81",
   "metadata": {},
   "outputs": [
    {
     "data": {
      "text/plain": [
       "count    17903.000000\n",
       "mean         2.858459\n",
       "std          0.844698\n",
       "min          0.000000\n",
       "25%          2.000000\n",
       "50%          3.000000\n",
       "75%          3.000000\n",
       "max          9.000000\n",
       "dtype: float64"
      ]
     },
     "execution_count": 25,
     "metadata": {},
     "output_type": "execute_result"
    }
   ],
   "source": [
    "#esse nó tbm chega em media a 3 passos a qualquer outro nó\n",
    "distances = nx.shortest_path_length(H, '62821')\n",
    "distances = pd.Series(distances)\n",
    "distances.describe()"
   ]
  },
  {
   "cell_type": "code",
   "execution_count": 26,
   "id": "f38d72b1",
   "metadata": {},
   "outputs": [
    {
     "data": {
      "text/plain": [
       "0.639"
      ]
     },
     "execution_count": 26,
     "metadata": {},
     "output_type": "execute_result"
    }
   ],
   "source": [
    "#no momento que cria uma aresta entre todos os autores é esperado uma clusterização alta\n",
    "#no caso o resultado aqui foi 64%\n",
    "nx.algorithms.approximation.average_clustering(H)"
   ]
  },
  {
   "cell_type": "code",
   "execution_count": 27,
   "id": "97df230e",
   "metadata": {},
   "outputs": [
    {
     "name": "stdout",
     "output_type": "stream",
     "text": [
      "Graph with 18772 nodes and 197308 edges\n"
     ]
    }
   ],
   "source": [
    "#comparando com uma rede aleatoria ERDOS-Renyi\n",
    "#grapho aleatorio\n",
    "#com o msm numero de nós\n",
    "#com a mesma densidade para escolher o parametro Pdo modelo\n",
    "num_nodes = G.number_of_nodes()\n",
    "density = nx.density(G)\n",
    "random_graph = nx.erdos_renyi_graph(num_nodes, density, seed=42)\n",
    "print(random_graph)"
   ]
  },
  {
   "cell_type": "code",
   "execution_count": 28,
   "id": "d83a423b",
   "metadata": {},
   "outputs": [
    {
     "data": {
      "text/plain": [
       "0.633"
      ]
     },
     "execution_count": 28,
     "metadata": {},
     "output_type": "execute_result"
    }
   ],
   "source": [
    "#clusterização em uma rede aleatoria é menor\n",
    "nx.algorithms.approximation.average_clustering(H)"
   ]
  },
  {
   "cell_type": "code",
   "execution_count": 29,
   "id": "60fd1229",
   "metadata": {},
   "outputs": [
    {
     "data": {
      "text/plain": [
       "0.001"
      ]
     },
     "execution_count": 29,
     "metadata": {},
     "output_type": "execute_result"
    }
   ],
   "source": [
    "nx.algorithms.approximation.average_clustering(random_graph)"
   ]
  },
  {
   "cell_type": "code",
   "execution_count": 30,
   "id": "d222d438",
   "metadata": {},
   "outputs": [
    {
     "data": {
      "text/plain": [
       "290"
      ]
     },
     "execution_count": 30,
     "metadata": {},
     "output_type": "execute_result"
    }
   ],
   "source": [
    "nx.number_connected_components(G)"
   ]
  },
  {
   "cell_type": "code",
   "execution_count": 31,
   "id": "92fd505e",
   "metadata": {},
   "outputs": [
    {
     "data": {
      "text/plain": [
       "1"
      ]
     },
     "execution_count": 31,
     "metadata": {},
     "output_type": "execute_result"
    }
   ],
   "source": [
    "#numero de componentes conexas em redes aleatorias comumente são 1, ou seja todo mundo conectado\n",
    "nx.number_connected_components(random_graph)"
   ]
  },
  {
   "cell_type": "code",
   "execution_count": 32,
   "id": "d5fdf796",
   "metadata": {},
   "outputs": [
    {
     "data": {
      "text/plain": [
       "14"
      ]
     },
     "execution_count": 32,
     "metadata": {},
     "output_type": "execute_result"
    }
   ],
   "source": [
    "nx.algorithms.approximation.diameter(H)"
   ]
  },
  {
   "cell_type": "code",
   "execution_count": 33,
   "id": "ca097fa2",
   "metadata": {},
   "outputs": [
    {
     "data": {
      "text/plain": [
       "5"
      ]
     },
     "execution_count": 33,
     "metadata": {},
     "output_type": "execute_result"
    }
   ],
   "source": [
    "#diametro é bem menor comparado ao H\n",
    "nx.algorithms.approximation.diameter(random_graph)"
   ]
  },
  {
   "cell_type": "code",
   "execution_count": 34,
   "id": "b4781a87",
   "metadata": {},
   "outputs": [
    {
     "data": {
      "image/png": "[encoded data removed]",
      "text/plain": [
       "<Figure size 640x480 with 1 Axes>"
      ]
     },
     "metadata": {},
     "output_type": "display_data"
    }
   ],
   "source": [
    "degree_list = [degree for node, degree in G.degree]\n",
    "degree_list = pd.Series(degree_list)\n",
    "degree_list.hist();"
   ]
  },
  {
   "cell_type": "code",
   "execution_count": 35,
   "id": "b661f477",
   "metadata": {},
   "outputs": [
    {
     "data": {
      "image/png": "[encoded data removed]",
      "text/plain": [
       "<Figure size 640x480 with 1 Axes>"
      ]
     },
     "metadata": {},
     "output_type": "display_data"
    }
   ],
   "source": [
    "#distribuição aleatoria é normal/ distribuição binomial\n",
    "rng_degree_list = [degree for node, degree in random_graph.degree]\n",
    "rng_degree_list = pd.Series(rng_degree_list)\n",
    "rng_degree_list.hist();"
   ]
  },
  {
   "cell_type": "code",
   "execution_count": null,
   "id": "2ed6c53b",
   "metadata": {},
   "outputs": [],
   "source": []
  },
  {
   "cell_type": "code",
   "execution_count": 36,
   "id": "a3a30588",
   "metadata": {},
   "outputs": [
    {
     "data": {
      "text/plain": [
       "'as-caida20071105.txt.gz'"
      ]
     },
     "execution_count": 36,
     "metadata": {},
     "output_type": "execute_result"
    }
   ],
   "source": [
    "#dataset/ fotografia tirado em 2007\n",
    "#utilizando a função pra baixar o arquivo\n",
    "\n",
    "url = 'https://snap.stanford.edu/data/as-caida20071105.txt.gz'\n",
    "file_path = download_file(url)\n",
    "file_path"
   ]
  },
  {
   "cell_type": "code",
   "execution_count": 37,
   "id": "8c8c0a5c",
   "metadata": {},
   "outputs": [
    {
     "name": "stdout",
     "output_type": "stream",
     "text": [
      "Graph with 26475 nodes and 53381 edges\n"
     ]
    }
   ],
   "source": [
    "#desta vez o arquivo tem pesos\n",
    "#lendo o arquivo com uma lista de arestas\n",
    "#Baixa densidade comparada com a rede anterior\n",
    "G = nx.read_weighted_edgelist(file_path)\n",
    "print(G)"
   ]
  },
  {
   "cell_type": "code",
   "execution_count": 38,
   "id": "4bfdf014",
   "metadata": {},
   "outputs": [
    {
     "data": {
      "text/plain": [
       "0.0001523214859084934"
      ]
     },
     "execution_count": 38,
     "metadata": {},
     "output_type": "execute_result"
    }
   ],
   "source": [
    "#10x menor que a rede anterior\n",
    "nx.density(G)"
   ]
  },
  {
   "cell_type": "code",
   "execution_count": 39,
   "id": "1dfb6cac",
   "metadata": {},
   "outputs": [
    {
     "data": {
      "text/plain": [
       "True"
      ]
     },
     "execution_count": 39,
     "metadata": {},
     "output_type": "execute_result"
    }
   ],
   "source": [
    "#é esperado que seja conectado por haver só uma componente conexa\n",
    "nx.is_connected(G)"
   ]
  },
  {
   "cell_type": "code",
   "execution_count": 40,
   "id": "8f776f1a",
   "metadata": {},
   "outputs": [
    {
     "data": {
      "text/plain": [
       "1"
      ]
     },
     "execution_count": 40,
     "metadata": {},
     "output_type": "execute_result"
    }
   ],
   "source": [
    "#só uma componente conexa\n",
    "nx.number_connected_components(G)"
   ]
  },
  {
   "cell_type": "code",
   "execution_count": 41,
   "id": "84398614",
   "metadata": {},
   "outputs": [
    {
     "data": {
      "image/png": "[encoded data removed]",
      "text/plain": [
       "<Figure size 640x480 with 1 Axes>"
      ]
     },
     "metadata": {},
     "output_type": "display_data"
    }
   ],
   "source": [
    "#histograma\n",
    "#lista de graus\n",
    "#muito nós com graus baixos\n",
    "# 1 com grau 2500\n",
    "degree_list = [degree for node, degree in G.degree]\n",
    "degree_list = pd.Series(degree_list)\n",
    "degree_list.hist();"
   ]
  },
  {
   "cell_type": "code",
   "execution_count": 42,
   "id": "400f66a8",
   "metadata": {},
   "outputs": [
    {
     "data": {
      "text/plain": [
       "count    26475.000000\n",
       "mean         4.032559\n",
       "std         33.374795\n",
       "min          1.000000\n",
       "25%          1.000000\n",
       "50%          2.000000\n",
       "75%          2.000000\n",
       "max       2628.000000\n",
       "dtype: float64"
      ]
     },
     "execution_count": 42,
     "metadata": {},
     "output_type": "execute_result"
    }
   ],
   "source": [
    "#75% com grau 2\n",
    "degree_list.describe()"
   ]
  },
  {
   "cell_type": "code",
   "execution_count": 43,
   "id": "1bcc4398",
   "metadata": {},
   "outputs": [
    {
     "data": {
      "image/png": "[encoded data removed]",
      "text/plain": [
       "<Figure size 640x480 with 1 Axes>"
      ]
     },
     "metadata": {},
     "output_type": "display_data"
    }
   ],
   "source": [
    "#plotando é percepitivel uma reta logo segue uma lei de potencia\n",
    "# logo existe uma chance de existir um nó com grau ainda maior e quanto mais a internet crescer vai ser possivel ver isso\n",
    "y = degree_list.sort_values(ascending=False)\n",
    "x = range(len(y))\n",
    "plt.plot(x, y)\n",
    "plt.loglog()\n",
    "plt.xlabel('Posição (rank)')\n",
    "plt.ylabel('Grau do nó');"
   ]
  },
  {
   "cell_type": "code",
   "execution_count": 44,
   "id": "631b4a75",
   "metadata": {},
   "outputs": [
    {
     "data": {
      "text/plain": [
       "17"
      ]
     },
     "execution_count": 44,
     "metadata": {},
     "output_type": "execute_result"
    }
   ],
   "source": [
    "#distancias\n",
    "#diametro 17 (de um nó ao outro nó pode ter até 17 passos)\n",
    "nx.algorithms.approximation.diameter(G)"
   ]
  },
  {
   "cell_type": "code",
   "execution_count": 45,
   "id": "7353de03",
   "metadata": {},
   "outputs": [
    {
     "data": {
      "text/plain": [
       "['174', '3356', '7018', '701', '1239']"
      ]
     },
     "execution_count": 45,
     "metadata": {},
     "output_type": "execute_result"
    }
   ],
   "source": [
    "top_nodes = [node for node, degree in G.degree if degree > 1500]\n",
    "top_nodes"
   ]
  },
  {
   "cell_type": "code",
   "execution_count": 46,
   "id": "7076c747",
   "metadata": {},
   "outputs": [
    {
     "data": {
      "text/plain": [
       "count    26475.000000\n",
       "mean         2.421870\n",
       "std          0.728787\n",
       "min          0.000000\n",
       "25%          2.000000\n",
       "50%          2.000000\n",
       "75%          3.000000\n",
       "max         13.000000\n",
       "dtype: float64"
      ]
     },
     "execution_count": 46,
     "metadata": {},
     "output_type": "execute_result"
    }
   ],
   "source": [
    "#xemplos de distancias\n",
    "distances = nx.shortest_path_length(G, '174')\n",
    "distances = pd.Series(distances)\n",
    "distances.describe()"
   ]
  },
  {
   "cell_type": "code",
   "execution_count": 47,
   "id": "8b5ad03d",
   "metadata": {},
   "outputs": [
    {
     "data": {
      "text/plain": [
       "count    26475.000000\n",
       "mean         2.330538\n",
       "std          0.675398\n",
       "min          0.000000\n",
       "25%          2.000000\n",
       "50%          2.000000\n",
       "75%          3.000000\n",
       "max         13.000000\n",
       "dtype: float64"
      ]
     },
     "execution_count": 47,
     "metadata": {},
     "output_type": "execute_result"
    }
   ],
   "source": [
    "#exemplos de distancias\n",
    "distances = nx.shortest_path_length(G, '3356')\n",
    "distances = pd.Series(distances)\n",
    "distances.describe()"
   ]
  },
  {
   "cell_type": "code",
   "execution_count": 48,
   "id": "6a3c3ba9",
   "metadata": {},
   "outputs": [
    {
     "data": {
      "text/plain": [
       "0.222"
      ]
     },
     "execution_count": 48,
     "metadata": {},
     "output_type": "execute_result"
    }
   ],
   "source": [
    "#clusterização em torno de 22%\n",
    "#não faz muito sentido em questão de eficiencia\n",
    "nx.algorithms.approximation.average_clustering(G)"
   ]
  },
  {
   "cell_type": "code",
   "execution_count": 49,
   "id": "79e7d65e",
   "metadata": {},
   "outputs": [
    {
     "name": "stdout",
     "output_type": "stream",
     "text": [
      "Graph with 26475 nodes and 53285 edges\n"
     ]
    }
   ],
   "source": [
    "#comparando com rede aleatoria\n",
    "num_nodes = G.number_of_nodes()\n",
    "density = nx.density(G)\n",
    "random_graph = nx.erdos_renyi_graph(num_nodes, density, seed=42)\n",
    "print(random_graph)"
   ]
  },
  {
   "cell_type": "code",
   "execution_count": 50,
   "id": "456d41d0",
   "metadata": {},
   "outputs": [
    {
     "data": {
      "text/plain": [
       "0.216"
      ]
     },
     "execution_count": 50,
     "metadata": {},
     "output_type": "execute_result"
    }
   ],
   "source": [
    "#como seria uma internet se fosse rede aleatoria?\n",
    "\n",
    "nx.algorithms.approximation.average_clustering(G)"
   ]
  },
  {
   "cell_type": "code",
   "execution_count": 51,
   "id": "66f4d2a6",
   "metadata": {},
   "outputs": [
    {
     "data": {
      "text/plain": [
       "0.0"
      ]
     },
     "execution_count": 51,
     "metadata": {},
     "output_type": "execute_result"
    }
   ],
   "source": [
    "#coeficiente de clusterização é 0\n",
    "nx.algorithms.approximation.average_clustering(random_graph)"
   ]
  },
  {
   "cell_type": "code",
   "execution_count": 52,
   "id": "591ccfd9",
   "metadata": {},
   "outputs": [
    {
     "data": {
      "text/plain": [
       "1"
      ]
     },
     "execution_count": 52,
     "metadata": {},
     "output_type": "execute_result"
    }
   ],
   "source": [
    "nx.number_connected_components(G)"
   ]
  },
  {
   "cell_type": "code",
   "execution_count": 53,
   "id": "a8bfecb2",
   "metadata": {},
   "outputs": [
    {
     "data": {
      "text/plain": [
       "474"
      ]
     },
     "execution_count": 53,
     "metadata": {},
     "output_type": "execute_result"
    }
   ],
   "source": [
    "#numero de componentes é maior\n",
    "#rola o incentivo da internet ser conectada enquanto na rede aleatoria não por não ter obrigação de conectividade\n",
    "nx.number_connected_components(random_graph)"
   ]
  },
  {
   "cell_type": "code",
   "execution_count": 54,
   "id": "f6c542cd",
   "metadata": {},
   "outputs": [
    {
     "data": {
      "text/plain": [
       "17"
      ]
     },
     "execution_count": 54,
     "metadata": {},
     "output_type": "execute_result"
    }
   ],
   "source": [
    "#diametro \n",
    "nx.algorithms.approximation.diameter(G)"
   ]
  },
  {
   "cell_type": "code",
   "execution_count": 55,
   "id": "4321726f",
   "metadata": {},
   "outputs": [
    {
     "ename": "NetworkXError",
     "evalue": "Graph not connected.",
     "output_type": "error",
     "traceback": [
      "\u001b[1;31m---------------------------------------------------------------------------\u001b[0m",
      "\u001b[1;31mNetworkXError\u001b[0m                             Traceback (most recent call last)",
      "Cell \u001b[1;32mIn[55], line 1\u001b[0m\n\u001b[1;32m----> 1\u001b[0m nx\u001b[38;5;241m.\u001b[39malgorithms\u001b[38;5;241m.\u001b[39mapproximation\u001b[38;5;241m.\u001b[39mdiameter(random_graph)\n",
      "File \u001b[1;32m<class 'networkx.utils.decorators.argmap'> compilation 21:4\u001b[0m, in \u001b[0;36margmap_diameter_18\u001b[1;34m(G, seed)\u001b[0m\n\u001b[0;32m      2\u001b[0m \u001b[38;5;28;01mimport\u001b[39;00m \u001b[38;5;21;01mcollections\u001b[39;00m\n\u001b[0;32m      3\u001b[0m \u001b[38;5;28;01mimport\u001b[39;00m \u001b[38;5;21;01mgzip\u001b[39;00m\n\u001b[1;32m----> 4\u001b[0m \u001b[38;5;28;01mimport\u001b[39;00m \u001b[38;5;21;01minspect\u001b[39;00m\n\u001b[0;32m      5\u001b[0m \u001b[38;5;28;01mimport\u001b[39;00m \u001b[38;5;21;01mitertools\u001b[39;00m\n\u001b[0;32m      6\u001b[0m \u001b[38;5;28;01mimport\u001b[39;00m \u001b[38;5;21;01mre\u001b[39;00m\n",
      "File \u001b[1;32m~\\anaconda3\\Lib\\site-packages\\networkx\\algorithms\\approximation\\distance_measures.py:74\u001b[0m, in \u001b[0;36mdiameter\u001b[1;34m(G, seed)\u001b[0m\n\u001b[0;32m     72\u001b[0m     \u001b[38;5;28;01mreturn\u001b[39;00m _two_sweep_directed(G, seed)\n\u001b[0;32m     73\u001b[0m \u001b[38;5;66;03m# else if G is undirected\u001b[39;00m\n\u001b[1;32m---> 74\u001b[0m \u001b[38;5;28;01mreturn\u001b[39;00m _two_sweep_undirected(G, seed)\n",
      "File \u001b[1;32m~\\anaconda3\\Lib\\site-packages\\networkx\\algorithms\\approximation\\distance_measures.py:96\u001b[0m, in \u001b[0;36m_two_sweep_undirected\u001b[1;34m(G, seed)\u001b[0m\n\u001b[0;32m     94\u001b[0m \u001b[38;5;66;03m# if some nodes have not been visited, then the graph is not connected\u001b[39;00m\n\u001b[0;32m     95\u001b[0m \u001b[38;5;28;01mif\u001b[39;00m \u001b[38;5;28mlen\u001b[39m(distances) \u001b[38;5;241m!=\u001b[39m \u001b[38;5;28mlen\u001b[39m(G):\n\u001b[1;32m---> 96\u001b[0m     \u001b[38;5;28;01mraise\u001b[39;00m nx\u001b[38;5;241m.\u001b[39mNetworkXError(\u001b[38;5;124m\"\u001b[39m\u001b[38;5;124mGraph not connected.\u001b[39m\u001b[38;5;124m\"\u001b[39m)\n\u001b[0;32m     97\u001b[0m \u001b[38;5;66;03m# take a node that is (one of) the farthest nodes from the source\u001b[39;00m\n\u001b[0;32m     98\u001b[0m \u001b[38;5;241m*\u001b[39m_, node \u001b[38;5;241m=\u001b[39m distances\n",
      "\u001b[1;31mNetworkXError\u001b[0m: Graph not connected."
     ]
    }
   ],
   "source": [
    "#não consegue calcular por não ser conectado\n",
    "nx.algorithms.approximation.diameter(random_graph)"
   ]
  },
  {
   "cell_type": "code",
   "execution_count": 56,
   "id": "0874d647",
   "metadata": {},
   "outputs": [
    {
     "name": "stdout",
     "output_type": "stream",
     "text": [
      "Graph with 25980 nodes and 53263 edges\n"
     ]
    }
   ],
   "source": [
    "#pega maior componente do grapho aleatorio\n",
    "components = nx.connected_components(random_graph)\n",
    "nodes = max(components, key=len)\n",
    "random_graph_comp = random_graph.subgraph(nodes)\n",
    "print(random_graph_comp)"
   ]
  },
  {
   "cell_type": "code",
   "execution_count": 57,
   "id": "116792b0",
   "metadata": {},
   "outputs": [
    {
     "data": {
      "text/plain": [
       "15"
      ]
     },
     "execution_count": 57,
     "metadata": {},
     "output_type": "execute_result"
    }
   ],
   "source": [
    "#diametro é 15\n",
    "nx.algorithms.approximation.diameter(random_graph_comp)"
   ]
  },
  {
   "cell_type": "code",
   "execution_count": 58,
   "id": "04ab9983",
   "metadata": {},
   "outputs": [
    {
     "data": {
      "image/png": "[encoded data removed]",
      "text/plain": [
       "<Figure size 640x480 with 1 Axes>"
      ]
     },
     "metadata": {},
     "output_type": "display_data"
    }
   ],
   "source": [
    "#muitos nós com graus pequenos e poucos com centralidade de grau maior, com muitas conexões\n",
    "degree_list = [degree for node, degree in G.degree]\n",
    "degree_list = pd.Series(degree_list)\n",
    "degree_list.hist();"
   ]
  },
  {
   "cell_type": "code",
   "execution_count": 59,
   "id": "95e9d198",
   "metadata": {},
   "outputs": [
    {
     "data": {
      "image/png": "[encoded data removed]",
      "text/plain": [
       "<Figure size 640x480 with 1 Axes>"
      ]
     },
     "metadata": {},
     "output_type": "display_data"
    }
   ],
   "source": [
    "#rede aleatoria é distribuida de forma normal, alguns nós com  grau 4 mas não foge mt disso\n",
    "rng_degree_list = [degree for node, degree in random_graph.degree]\n",
    "rng_degree_list = pd.Series(rng_degree_list)\n",
    "rng_degree_list.hist();"
   ]
  },
  {
   "cell_type": "code",
   "execution_count": null,
   "id": "1096b22a",
   "metadata": {},
   "outputs": [],
   "source": []
  },
  {
   "cell_type": "code",
   "execution_count": null,
   "id": "ca3d5edb",
   "metadata": {},
   "outputs": [],
   "source": []
  },
  {
   "cell_type": "code",
   "execution_count": null,
   "id": "88e8b7b1",
   "metadata": {},
   "outputs": [],
   "source": []
  },
  {
   "cell_type": "code",
   "execution_count": 60,
   "id": "5d2feade",
   "metadata": {},
   "outputs": [
    {
     "data": {
      "text/plain": [
       "'roadNet-PA.txt.gz'"
      ]
     },
     "execution_count": 60,
     "metadata": {},
     "output_type": "execute_result"
    }
   ],
   "source": [
    "#rede de infraestrutura\n",
    "#ruas, avenidas, etc\n",
    "\n",
    "#Inteseções: são nós\n",
    "#estradas: arestas\n",
    "\n",
    "#rede fisica/ geometrica\n",
    "\n",
    "\n",
    "#metricas: distancias, conectividade, distribuição de graus e clusterização\n",
    "\n",
    "#download do arquivo\n",
    "url = 'https://snap.stanford.edu/data/roadNet-PA.txt.gz'\n",
    "file_path = download_file(url)\n",
    "file_path"
   ]
  },
  {
   "cell_type": "code",
   "execution_count": 61,
   "id": "3c8a2a82",
   "metadata": {},
   "outputs": [
    {
     "name": "stdout",
     "output_type": "stream",
     "text": [
      "DiGraph with 1088092 nodes and 3083796 edges\n"
     ]
    }
   ],
   "source": [
    "#nós e arestas\n",
    "\n",
    "G = nx.read_edgelist(file_path, create_using=nx.DiGraph)\n",
    "print(G)"
   ]
  },
  {
   "cell_type": "code",
   "execution_count": 62,
   "id": "1272292d",
   "metadata": {},
   "outputs": [
    {
     "data": {
      "text/plain": [
       "2.6046825795723353e-06"
      ]
     },
     "execution_count": 62,
     "metadata": {},
     "output_type": "execute_result"
    }
   ],
   "source": [
    "#densidade da rede\n",
    "#densidade baixa\n",
    "nx.density(G)"
   ]
  },
  {
   "cell_type": "code",
   "execution_count": 63,
   "id": "4f454928",
   "metadata": {},
   "outputs": [
    {
     "data": {
      "text/plain": [
       "False"
      ]
     },
     "execution_count": 63,
     "metadata": {},
     "output_type": "execute_result"
    }
   ],
   "source": [
    "#não fortemente conexa\n",
    "#não é possivel chegar a qualquer nó, nós desconecatdos\n",
    "nx.is_strongly_connected(G)"
   ]
  },
  {
   "cell_type": "code",
   "execution_count": 64,
   "id": "85f04134",
   "metadata": {},
   "outputs": [
    {
     "data": {
      "text/plain": [
       "206"
      ]
     },
     "execution_count": 64,
     "metadata": {},
     "output_type": "execute_result"
    }
   ],
   "source": [
    "nx.number_strongly_connected_components(G)"
   ]
  },
  {
   "cell_type": "code",
   "execution_count": 65,
   "id": "2cc328e4",
   "metadata": {},
   "outputs": [
    {
     "name": "stdout",
     "output_type": "stream",
     "text": [
      "DiGraph with 1087562 nodes and 3083028 edges\n"
     ]
    }
   ],
   "source": [
    "#analisando o componente de maior comprimento\n",
    "#rede totalmente conectada\n",
    "components = nx.strongly_connected_components(G)\n",
    "nodes = max(components, key=len)\n",
    "H = G.subgraph(nodes)\n",
    "print(H)"
   ]
  },
  {
   "cell_type": "code",
   "execution_count": 66,
   "id": "bcd48d1f",
   "metadata": {},
   "outputs": [
    {
     "data": {
      "text/plain": [
       "0.9995129088349147"
      ]
     },
     "execution_count": 66,
     "metadata": {},
     "output_type": "execute_result"
    }
   ],
   "source": [
    "#comparando com o total\n",
    "#99,9% de todos os nós\n",
    "H.number_of_nodes() / G.number_of_nodes()"
   ]
  },
  {
   "cell_type": "code",
   "execution_count": 67,
   "id": "c5bc76da",
   "metadata": {},
   "outputs": [
    {
     "data": {
      "text/plain": [
       "0.9997509562889374"
      ]
     },
     "execution_count": 67,
     "metadata": {},
     "output_type": "execute_result"
    }
   ],
   "source": [
    "#arestas tambem fortemente conexas\n",
    "H.number_of_edges() / G.number_of_edges()"
   ]
  },
  {
   "cell_type": "code",
   "execution_count": 68,
   "id": "a54464a1",
   "metadata": {},
   "outputs": [
    {
     "data": {
      "image/png": "[encoded data removed]",
      "text/plain": [
       "<Figure size 640x480 with 1 Axes>"
      ]
     },
     "metadata": {},
     "output_type": "display_data"
    }
   ],
   "source": [
    "#distribuição dos graus\n",
    "#analisando graus de entrada e saida\n",
    "#rede regular\n",
    "#grande parte tem 2/3/4 ruas, dificil fugir disso\n",
    "in_degree_list = [degree for node, degree in G.in_degree]\n",
    "in_degree_list = pd.Series(in_degree_list)\n",
    "in_degree_list.hist();"
   ]
  },
  {
   "cell_type": "code",
   "execution_count": 69,
   "id": "ed59116b",
   "metadata": {},
   "outputs": [
    {
     "data": {
      "text/plain": [
       "count    1.088092e+06\n",
       "mean     2.834132e+00\n",
       "std      1.016930e+00\n",
       "min      1.000000e+00\n",
       "25%      2.000000e+00\n",
       "50%      3.000000e+00\n",
       "75%      4.000000e+00\n",
       "max      9.000000e+00\n",
       "dtype: float64"
      ]
     },
     "execution_count": 69,
     "metadata": {},
     "output_type": "execute_result"
    }
   ],
   "source": [
    "#dando describe no grafico anterior\n",
    "in_degree_list.describe()"
   ]
  },
  {
   "cell_type": "code",
   "execution_count": 70,
   "id": "9e0514fa",
   "metadata": {},
   "outputs": [
    {
     "data": {
      "image/png": "[encoded data removed]",
      "text/plain": [
       "<Figure size 640x480 with 1 Axes>"
      ]
     },
     "metadata": {},
     "output_type": "display_data"
    }
   ],
   "source": [
    "out_degree_list = [degree for node, degree in G.out_degree]\n",
    "out_degree_list = pd.Series(out_degree_list)\n",
    "out_degree_list.hist();"
   ]
  },
  {
   "cell_type": "code",
   "execution_count": 71,
   "id": "b616dc28",
   "metadata": {},
   "outputs": [
    {
     "data": {
      "text/plain": [
       "count    1.088092e+06\n",
       "mean     2.834132e+00\n",
       "std      1.016930e+00\n",
       "min      1.000000e+00\n",
       "25%      2.000000e+00\n",
       "50%      3.000000e+00\n",
       "75%      4.000000e+00\n",
       "max      9.000000e+00\n",
       "dtype: float64"
      ]
     },
     "execution_count": 71,
     "metadata": {},
     "output_type": "execute_result"
    }
   ],
   "source": [
    "out_degree_list.describe()"
   ]
  },
  {
   "cell_type": "code",
   "execution_count": 72,
   "id": "b8a1bcc4",
   "metadata": {},
   "outputs": [
    {
     "data": {
      "image/png": "[encoded data removed]",
      "text/plain": [
       "<Figure size 640x480 with 1 Axes>"
      ]
     },
     "metadata": {},
     "output_type": "display_data"
    }
   ],
   "source": [
    "#não existe grafico de calda longa pelo grau maximo ser muito proximo da media\n",
    "y = in_degree_list.sort_values(ascending=False)\n",
    "x = range(len(y))\n",
    "plt.plot(x, y)\n",
    "plt.loglog()\n",
    "plt.xlabel('Posição (rank)')\n",
    "plt.ylabel('Grau do nó');"
   ]
  },
  {
   "cell_type": "code",
   "execution_count": 73,
   "id": "a7e58e81",
   "metadata": {},
   "outputs": [
    {
     "data": {
      "text/plain": [
       "792"
      ]
     },
     "execution_count": 73,
     "metadata": {},
     "output_type": "execute_result"
    }
   ],
   "source": [
    "#diametro\n",
    "#valor alto\n",
    "#contexto dos nós são ruas\n",
    "nx.algorithms.approximation.diameter(H)"
   ]
  },
  {
   "cell_type": "code",
   "execution_count": 74,
   "id": "8ed2e462",
   "metadata": {},
   "outputs": [
    {
     "data": {
      "text/plain": [
       "count    1.087562e+06\n",
       "mean     2.857163e+02\n",
       "std      1.085169e+02\n",
       "min      0.000000e+00\n",
       "25%      2.070000e+02\n",
       "50%      2.940000e+02\n",
       "75%      3.610000e+02\n",
       "max      5.410000e+02\n",
       "dtype: float64"
      ]
     },
     "execution_count": 74,
     "metadata": {},
     "output_type": "execute_result"
    }
   ],
   "source": [
    "\n",
    "distances = nx.shortest_path_length(H, '0')\n",
    "distances = pd.Series(distances)\n",
    "distances.describe()undirected = nx.to_undirected(H)\n",
    "print(undirected)"
   ]
  },
  {
   "cell_type": "code",
   "execution_count": 75,
   "id": "a02ceaca",
   "metadata": {},
   "outputs": [
    {
     "name": "stdout",
     "output_type": "stream",
     "text": [
      "Graph with 1087562 nodes and 1541514 edges\n"
     ]
    }
   ],
   "source": [
    "#convertendo pra uma rede não direcionada\n",
    "undirected = nx.to_undirected(H)\n",
    "print(undirected)"
   ]
  },
  {
   "cell_type": "code",
   "execution_count": 76,
   "id": "ec009ed3",
   "metadata": {},
   "outputs": [
    {
     "data": {
      "text/plain": [
       "0.046"
      ]
     },
     "execution_count": 76,
     "metadata": {},
     "output_type": "execute_result"
    }
   ],
   "source": [
    "#após converter para uma rede não direcionada é aplicado a clusterização\n",
    "#baixa clusterização\n",
    "nx.algorithms.approximation.average_clustering(undirected)"
   ]
  },
  {
   "cell_type": "code",
   "execution_count": 77,
   "id": "6810c5f9",
   "metadata": {},
   "outputs": [
    {
     "data": {
      "text/plain": [
       "(1088092, 2.6046825795723353e-06)"
      ]
     },
     "execution_count": 77,
     "metadata": {},
     "output_type": "execute_result"
    }
   ],
   "source": [
    "#comparando com rede aleatoria\n",
    "#utilizaremos equações para gerar uma rede aleatoria\n",
    "n = G.number_of_nodes()\n",
    "p = nx.density(G)\n",
    "n, p"
   ]
  },
  {
   "cell_type": "code",
   "execution_count": 78,
   "id": "289647d6",
   "metadata": {},
   "outputs": [
    {
     "data": {
      "text/plain": [
       "2.6046825795723353e-06"
      ]
     },
     "execution_count": 78,
     "metadata": {},
     "output_type": "execute_result"
    }
   ],
   "source": [
    "#clusterização da rede aleatoria = densidade\n",
    "random_graph_clustering = p\n",
    "random_graph_clustering"
   ]
  },
  {
   "cell_type": "code",
   "execution_count": 79,
   "id": "7f50b8e2",
   "metadata": {},
   "outputs": [
    {
     "data": {
      "text/plain": [
       "2.834131672689442"
      ]
     },
     "execution_count": 79,
     "metadata": {},
     "output_type": "execute_result"
    }
   ],
   "source": [
    "#grau medio\n",
    "#densidade * (numeros de nós - 1)\n",
    "mean_degree = p * (n - 1)\n",
    "mean_degree"
   ]
  },
  {
   "cell_type": "code",
   "execution_count": 80,
   "id": "941a6124",
   "metadata": {},
   "outputs": [
    {
     "data": {
      "text/plain": [
       "13.343055795874397"
      ]
     },
     "execution_count": 80,
     "metadata": {},
     "output_type": "execute_result"
    }
   ],
   "source": [
    "#diametro\n",
    "random_graph_diameter = np.log(n) / np.log(mean_degree)\n",
    "random_graph_diameter"
   ]
  },
  {
   "cell_type": "code",
   "execution_count": 81,
   "id": "9f00b41b",
   "metadata": {},
   "outputs": [
    {
     "data": {
      "image/png": "[encoded data removed]",
      "text/plain": [
       "<Figure size 640x480 with 1 Axes>"
      ]
     },
     "metadata": {},
     "output_type": "display_data"
    }
   ],
   "source": [
    "degree_dist = scipy.stats.binom(n - 1, p)\n",
    "x = np.arange(10)\n",
    "y = degree_dist.pmf(x)\n",
    "plt.plot(x, y)\n",
    "plt.xlabel('Grau do nó')\n",
    "plt.ylabel('Probabilidade');"
   ]
  },
  {
   "cell_type": "code",
   "execution_count": 82,
   "id": "c38cff72",
   "metadata": {},
   "outputs": [
    {
     "name": "stderr",
     "output_type": "stream",
     "text": [
      "C:\\Users\\gabri\\anaconda3\\Lib\\site-packages\\seaborn\\axisgrid.py:118: UserWarning: The figure layout has changed to tight\n",
      "  self._figure.tight_layout(*args, **kwargs)\n"
     ]
    },
    {
     "data": {
      "image/png": "[encoded data removed]",
      "text/plain": [
       "<Figure size 500x500 with 1 Axes>"
      ]
     },
     "metadata": {},
     "output_type": "display_data"
    }
   ],
   "source": [
    "#binomial junto da distribuição de graus da rede normal\n",
    "sns.displot(in_degree_list, stat='probability', bins=9)\n",
    "plt.plot(x, y);"
   ]
  },
  {
   "cell_type": "code",
   "execution_count": 83,
   "id": "2f20afe2",
   "metadata": {},
   "outputs": [
    {
     "data": {
      "image/png": "[encoded data removed]",
      "text/plain": [
       "<Figure size 640x480 with 1 Axes>"
      ]
     },
     "metadata": {},
     "output_type": "display_data"
    }
   ],
   "source": [
    "rng_degree_list = [degree for node, degree in random_graph.degree]\n",
    "rng_degree_list = pd.Series(rng_degree_list)\n",
    "rng_degree_list.hist();"
   ]
  },
  {
   "cell_type": "code",
   "execution_count": 84,
   "id": "42744868",
   "metadata": {},
   "outputs": [
    {
     "data": {
      "text/plain": [
       "'soc-Slashdot0811.txt.gz'"
      ]
     },
     "execution_count": 84,
     "metadata": {},
     "output_type": "execute_result"
    }
   ],
   "source": [
    "#redes sociais\n",
    "\n",
    "url = 'https://snap.stanford.edu/data/soc-Slashdot0811.txt.gz'\n",
    "file_path = download_file(url)\n",
    "file_path"
   ]
  },
  {
   "cell_type": "code",
   "execution_count": 85,
   "id": "82a6ee0b",
   "metadata": {},
   "outputs": [
    {
     "name": "stdout",
     "output_type": "stream",
     "text": [
      "DiGraph with 77360 nodes and 905468 edges\n"
     ]
    }
   ],
   "source": [
    "#nós e arestas\n",
    "G = nx.read_edgelist(file_path, create_using=nx.DiGraph)\n",
    "print(G)"
   ]
  },
  {
   "cell_type": "code",
   "execution_count": 86,
   "id": "25dc6c2e",
   "metadata": {},
   "outputs": [
    {
     "data": {
      "text/plain": [
       "0.0001513023935343928"
      ]
     },
     "execution_count": 86,
     "metadata": {},
     "output_type": "execute_result"
    }
   ],
   "source": [
    "#densidade\n",
    "nx.density(G)"
   ]
  },
  {
   "cell_type": "code",
   "execution_count": 87,
   "id": "5bd4f5b2",
   "metadata": {},
   "outputs": [
    {
     "data": {
      "text/plain": [
       "False"
      ]
     },
     "execution_count": 87,
     "metadata": {},
     "output_type": "execute_result"
    }
   ],
   "source": [
    "#não fortemente conexa\n",
    "nx.is_strongly_connected(G)"
   ]
  },
  {
   "cell_type": "code",
   "execution_count": 88,
   "id": "de87b081",
   "metadata": {},
   "outputs": [
    {
     "data": {
      "text/plain": [
       "6724"
      ]
     },
     "execution_count": 88,
     "metadata": {},
     "output_type": "execute_result"
    }
   ],
   "source": [
    "#6724 componentes fortemente conexa\n",
    "nx.number_strongly_connected_components(G)"
   ]
  },
  {
   "cell_type": "code",
   "execution_count": 89,
   "id": "da7b9b8e",
   "metadata": {},
   "outputs": [
    {
     "name": "stdout",
     "output_type": "stream",
     "text": [
      "DiGraph with 70355 nodes and 888662 edges\n"
     ]
    }
   ],
   "source": [
    "#pegando a maior para checar as conexões\n",
    "components = nx.strongly_connected_components(G)\n",
    "nodes = max(components, key=len)\n",
    "H = G.subgraph(nodes)\n",
    "print(H)"
   ]
  },
  {
   "cell_type": "code",
   "execution_count": 90,
   "id": "d46f9a2f",
   "metadata": {},
   "outputs": [
    {
     "data": {
      "text/plain": [
       "0.9094493278179938"
      ]
     },
     "execution_count": 90,
     "metadata": {},
     "output_type": "execute_result"
    }
   ],
   "source": [
    "#a maior está na variavel H\n",
    "#ela tem 91% dos nós\n",
    "#não é considerado muito comparando com outras redes\n",
    "#continua sendo componente gigante\n",
    "H.number_of_nodes() / G.number_of_nodes()"
   ]
  },
  {
   "cell_type": "code",
   "execution_count": 91,
   "id": "39bed72b",
   "metadata": {},
   "outputs": [
    {
     "data": {
      "text/plain": [
       "0.9814394324261045"
      ]
     },
     "execution_count": 91,
     "metadata": {},
     "output_type": "execute_result"
    }
   ],
   "source": [
    "#entre as arestas tem 98%\n",
    "H.number_of_edges() / G.number_of_edges()"
   ]
  },
  {
   "cell_type": "code",
   "execution_count": 92,
   "id": "e9a6171c",
   "metadata": {},
   "outputs": [
    {
     "data": {
      "image/png": "[encoded data removed]",
      "text/plain": [
       "<Figure size 640x480 with 1 Axes>"
      ]
     },
     "metadata": {},
     "output_type": "display_data"
    }
   ],
   "source": [
    "#grau de entrada\n",
    "in_degree_list = [degree for node, degree in G.in_degree]\n",
    "in_degree_list = pd.Series(in_degree_list)\n",
    "in_degree_list.hist();"
   ]
  },
  {
   "cell_type": "code",
   "execution_count": 93,
   "id": "674f6a7e",
   "metadata": {},
   "outputs": [
    {
     "data": {
      "text/plain": [
       "count    77360.000000\n",
       "mean        11.704602\n",
       "std         37.205199\n",
       "min          1.000000\n",
       "25%          2.000000\n",
       "50%          3.000000\n",
       "75%          8.000000\n",
       "max       2540.000000\n",
       "dtype: float64"
      ]
     },
     "execution_count": 93,
     "metadata": {},
     "output_type": "execute_result"
    }
   ],
   "source": [
    "#media 11,7%\n",
    "#mediana 3\n",
    "in_degree_list.describe()"
   ]
  },
  {
   "cell_type": "code",
   "execution_count": 94,
   "id": "3b507d7d",
   "metadata": {},
   "outputs": [
    {
     "data": {
      "image/png": "[encoded data removed]",
      "text/plain": [
       "<Figure size 640x480 with 1 Axes>"
      ]
     },
     "metadata": {},
     "output_type": "display_data"
    }
   ],
   "source": [
    "#grau de saida\n",
    "#similar\n",
    "out_degree_list = [degree for node, degree in G.out_degree]\n",
    "out_degree_list = pd.Series(out_degree_list)\n",
    "out_degree_list.hist();"
   ]
  },
  {
   "cell_type": "code",
   "execution_count": 95,
   "id": "d78fbf43",
   "metadata": {},
   "outputs": [
    {
     "data": {
      "text/plain": [
       "count    77360.000000\n",
       "mean        11.704602\n",
       "std         36.844128\n",
       "min          0.000000\n",
       "25%          2.000000\n",
       "50%          3.000000\n",
       "75%          7.000000\n",
       "max       2508.000000\n",
       "dtype: float64"
      ]
     },
     "execution_count": 95,
     "metadata": {},
     "output_type": "execute_result"
    }
   ],
   "source": [
    "out_degree_list.describe()"
   ]
  },
  {
   "cell_type": "code",
   "execution_count": 96,
   "id": "54180fd4",
   "metadata": {},
   "outputs": [
    {
     "data": {
      "image/png": "[encoded data removed]",
      "text/plain": [
       "<Figure size 640x480 with 1 Axes>"
      ]
     },
     "metadata": {},
     "output_type": "display_data"
    }
   ],
   "source": [
    "#há uma calda longa\n",
    "#tem algumas pessoas com mais relacionamentos que as outras\n",
    "#pode ser argumentado como grau de potencia \n",
    "y = in_degree_list.sort_values(ascending=False)\n",
    "x = range(len(y))\n",
    "plt.plot(x, y)\n",
    "plt.loglog()\n",
    "plt.xlabel('Posição (rank)')\n",
    "plt.ylabel('Grau do nó');"
   ]
  },
  {
   "cell_type": "code",
   "execution_count": 97,
   "id": "8ea2720c",
   "metadata": {},
   "outputs": [
    {
     "data": {
      "text/plain": [
       "12"
      ]
     },
     "execution_count": 97,
     "metadata": {},
     "output_type": "execute_result"
    }
   ],
   "source": [
    "#distancia\n",
    "#diametro\n",
    "#do pior caso ao outro pode dar até 12 passos\n",
    "nx.algorithms.approximation.diameter(H)"
   ]
  },
  {
   "cell_type": "code",
   "execution_count": 98,
   "id": "2d7b8fff",
   "metadata": {},
   "outputs": [
    {
     "data": {
      "text/plain": [
       "count    70355.00000\n",
       "mean         3.09435\n",
       "std          0.66968\n",
       "min          0.00000\n",
       "25%          3.00000\n",
       "50%          3.00000\n",
       "75%          3.00000\n",
       "max          7.00000\n",
       "dtype: float64"
      ]
     },
     "execution_count": 98,
     "metadata": {},
     "output_type": "execute_result"
    }
   ],
   "source": [
    "#nó de exemplo\n",
    "#dá pra chegar na maior parte dos casos em 3 passos\n",
    "# no pior caso 7 passos\n",
    "distances = nx.shortest_path_length(H, '0')\n",
    "distances = pd.Series(distances)\n",
    "distances.describe()"
   ]
  },
  {
   "cell_type": "code",
   "execution_count": 99,
   "id": "804e0e7d",
   "metadata": {},
   "outputs": [
    {
     "name": "stdout",
     "output_type": "stream",
     "text": [
      "Graph with 70355 nodes and 529972 edges\n"
     ]
    }
   ],
   "source": [
    "#convertendo pra rede não direcionada\n",
    "undirected = nx.to_undirected(H)\n",
    "print(undirected)"
   ]
  },
  {
   "cell_type": "code",
   "execution_count": 100,
   "id": "d370667e",
   "metadata": {},
   "outputs": [
    {
     "data": {
      "text/plain": [
       "0.595"
      ]
     },
     "execution_count": 100,
     "metadata": {},
     "output_type": "execute_result"
    }
   ],
   "source": [
    "#checando clusterização\n",
    "#efeito mundo pequeno/ alta clusterização\n",
    "#\"meus amigos são amigos\"\n",
    "nx.algorithms.approximation.average_clustering(undirected)"
   ]
  },
  {
   "cell_type": "code",
   "execution_count": 101,
   "id": "ce4afe41",
   "metadata": {},
   "outputs": [
    {
     "data": {
      "text/plain": [
       "(77360, 0.0001513023935343928)"
      ]
     },
     "execution_count": 101,
     "metadata": {},
     "output_type": "execute_result"
    }
   ],
   "source": [
    "#checando rede aleatoria\n",
    "#comparando rede social a rede aleatoria\n",
    "#seguindo caminho das formulas\n",
    "n = G.number_of_nodes()\n",
    "p = nx.density(G)\n",
    "n, p"
   ]
  },
  {
   "cell_type": "code",
   "execution_count": 102,
   "id": "5ef326be",
   "metadata": {},
   "outputs": [
    {
     "data": {
      "text/plain": [
       "0.0001513023935343928"
      ]
     },
     "execution_count": 102,
     "metadata": {},
     "output_type": "execute_result"
    }
   ],
   "source": [
    "#clusterização = densidade(na rede aleatoria)\n",
    "#qualquer aresta tem probabilidade existir igual a  P, vale para qualquer aresta, logo clusterização = densidade\n",
    "random_graph_clustering = p\n",
    "random_graph_clustering"
   ]
  },
  {
   "cell_type": "code",
   "execution_count": 103,
   "id": "0a3d578b",
   "metadata": {},
   "outputs": [
    {
     "data": {
      "text/plain": [
       "11.704601861427093"
      ]
     },
     "execution_count": 103,
     "metadata": {},
     "output_type": "execute_result"
    }
   ],
   "source": [
    "#numero de componentes\n",
    "mean_degree = p * (n - 1)\n",
    "mean_degree"
   ]
  },
  {
   "cell_type": "code",
   "execution_count": 104,
   "id": "a99997ff",
   "metadata": {},
   "outputs": [
    {
     "data": {
      "text/plain": [
       "4.575734593499139"
      ]
     },
     "execution_count": 104,
     "metadata": {},
     "output_type": "execute_result"
    }
   ],
   "source": [
    "#diametro\n",
    "#4,5 = baixo\n",
    "#muitas opções de caminho\n",
    "random_graph_diameter = np.log(n) / np.log(mean_degree)\n",
    "random_graph_diameter"
   ]
  },
  {
   "cell_type": "code",
   "execution_count": 105,
   "id": "0db2f732",
   "metadata": {},
   "outputs": [
    {
     "data": {
      "image/png": "[encoded data removed]",
      "text/plain": [
       "<Figure size 640x480 with 1 Axes>"
      ]
     },
     "metadata": {},
     "output_type": "display_data"
    }
   ],
   "source": [
    "#distribuição de grau\n",
    "#binomial\n",
    "#pico perto da media\n",
    "degree_dist = scipy.stats.binom(n - 1, p)\n",
    "x = np.arange(20)\n",
    "y = degree_dist.pmf(x)\n",
    "plt.plot(x, y)\n",
    "plt.xlabel('Grau do nó')\n",
    "plt.ylabel('Probabilidade');"
   ]
  },
  {
   "cell_type": "code",
   "execution_count": 106,
   "id": "28521744",
   "metadata": {},
   "outputs": [
    {
     "data": {
      "image/png": "[encoded data removed]",
      "text/plain": [
       "<Figure size 640x480 with 1 Axes>"
      ]
     },
     "metadata": {},
     "output_type": "display_data"
    }
   ],
   "source": [
    "#mesmo que a media seja igual\n",
    "#segue a uma lei de potencia\n",
    "#comportamento distinto da rede aleatoria\n",
    "in_degree_list.hist();"
   ]
  },
  {
   "cell_type": "code",
   "execution_count": null,
   "id": "c7e37f0b",
   "metadata": {},
   "outputs": [],
   "source": []
  }
 ],
 "metadata": {
  "kernelspec": {
   "display_name": "Python 3 (ipykernel)",
   "language": "python",
   "name": "python3"
  },
  "language_info": {
   "codemirror_mode": {
    "name": "ipython",
    "version": 3
   },
   "file_extension": ".py",
   "mimetype": "text/x-python",
   "name": "python",
   "nbconvert_exporter": "python",
   "pygments_lexer": "ipython3",
   "version": "3.11.5"
  }
 },
 "nbformat": 4,
 "nbformat_minor": 5
}
