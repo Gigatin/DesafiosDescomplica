{
 "cells": [
  {
   "cell_type": "code",
   "execution_count": 11,
   "id": "5742e355",
   "metadata": {},
   "outputs": [
    {
     "name": "stdout",
     "output_type": "stream",
     "text": [
      "Requirement already satisfied: mabalgs in c:\\users\\gabri\\anaconda3\\lib\\site-packages (0.6.8)\n",
      "Requirement already satisfied: numpy in c:\\users\\gabri\\anaconda3\\lib\\site-packages (from mabalgs) (1.24.3)\n"
     ]
    }
   ],
   "source": [
    "#!pip install mabalgs"
   ]
  },
  {
   "cell_type": "code",
   "execution_count": 1,
   "id": "68fd5a6e",
   "metadata": {},
   "outputs": [],
   "source": [
    "from mab.algs import UCB1"
   ]
  },
  {
   "cell_type": "code",
   "execution_count": 3,
   "id": "9924c7f0",
   "metadata": {},
   "outputs": [],
   "source": [
    "#o modelo aqui está com 3 arms\n",
    "ucb_with_three_arms = UCB1(3)"
   ]
  },
  {
   "cell_type": "code",
   "execution_count": 4,
   "id": "b7382a51",
   "metadata": {},
   "outputs": [
    {
     "data": {
      "text/plain": [
       "(0, [0, 1, 2])"
      ]
     },
     "execution_count": 4,
     "metadata": {},
     "output_type": "execute_result"
    }
   ],
   "source": [
    "#mostra as opções\n",
    "ucb_with_three_arms.select()"
   ]
  },
  {
   "cell_type": "code",
   "execution_count": 6,
   "id": "45b1ba2b",
   "metadata": {},
   "outputs": [
    {
     "data": {
      "text/plain": [
       "(1, array([1, 0, 2]))"
      ]
     },
     "execution_count": 6,
     "metadata": {},
     "output_type": "execute_result"
    }
   ],
   "source": [
    "ucb_with_three_arms.select()"
   ]
  },
  {
   "cell_type": "code",
   "execution_count": 7,
   "id": "8d01b6b6",
   "metadata": {},
   "outputs": [
    {
     "data": {
      "text/plain": [
       "(2, array([2, 0, 1]))"
      ]
     },
     "execution_count": 7,
     "metadata": {},
     "output_type": "execute_result"
    }
   ],
   "source": [
    "#perceba que toda vez que é ativado ele percorre a lista e trás o valor \"selecionado\"\n",
    "ucb_with_three_arms.select()"
   ]
  },
  {
   "cell_type": "code",
   "execution_count": 8,
   "id": "2af33908",
   "metadata": {},
   "outputs": [
    {
     "data": {
      "text/plain": [
       "(2, array([2, 1, 0], dtype=int64))"
      ]
     },
     "execution_count": 8,
     "metadata": {},
     "output_type": "execute_result"
    }
   ],
   "source": [
    "#Já que não teve nenhuma recompensa o reward vai diminuindo já que o N cresceu e o X/ não\n",
    "#então ele repitiu dessa vez, se for ativado dnv diminui pra 1 e depois 0\n",
    "ucb_with_three_arms.select()"
   ]
  },
  {
   "cell_type": "code",
   "execution_count": 27,
   "id": "021dd24c",
   "metadata": {},
   "outputs": [
    {
     "data": {
      "text/plain": [
       "2"
      ]
     },
     "execution_count": 27,
     "metadata": {},
     "output_type": "execute_result"
    }
   ],
   "source": [
    "#Aqui irá gerar um arm aleatorio toda vez q for executado\n",
    "my_arm = ucb_with_three_arms.select()[0]\n",
    "my_arm"
   ]
  },
  {
   "cell_type": "code",
   "execution_count": 26,
   "id": "3784c350",
   "metadata": {},
   "outputs": [],
   "source": [
    "#ao gerar o valor que você deseja, você executa o reward assim recompensando e ao longo do tempo ele percebe qual numero está sendo\n",
    "#mais recompensado e envia mais dele\n",
    "ucb_with_three_arms.reward(my_arm)"
   ]
  },
  {
   "cell_type": "code",
   "execution_count": 16,
   "id": "0e9b5c45",
   "metadata": {},
   "outputs": [
    {
     "data": {
      "text/plain": [
       "array([2., 2., 3.])"
      ]
     },
     "execution_count": 16,
     "metadata": {},
     "output_type": "execute_result"
    }
   ],
   "source": [
    "#aqui é o numero de impressões de cada arm\n",
    "ucb_with_three_arms.n_impressions"
   ]
  },
  {
   "cell_type": "code",
   "execution_count": 17,
   "id": "7699bbbf",
   "metadata": {},
   "outputs": [
    {
     "data": {
      "text/plain": [
       "array([0., 0., 1.])"
      ]
     },
     "execution_count": 17,
     "metadata": {},
     "output_type": "execute_result"
    }
   ],
   "source": [
    "#observe que aqui mostra as recompensas(rewards) dos numeros da lista, onde o 0 e 1 tiveram nenhum reward enquanto o 2 teve 1\n",
    "ucb_with_three_arms.n_rewards"
   ]
  },
  {
   "cell_type": "code",
   "execution_count": null,
   "id": "da22cb1b",
   "metadata": {},
   "outputs": [],
   "source": []
  }
 ],
 "metadata": {
  "kernelspec": {
   "display_name": "Python 3 (ipykernel)",
   "language": "python",
   "name": "python3"
  },
  "language_info": {
   "codemirror_mode": {
    "name": "ipython",
    "version": 3
   },
   "file_extension": ".py",
   "mimetype": "text/x-python",
   "name": "python",
   "nbconvert_exporter": "python",
   "pygments_lexer": "ipython3",
   "version": "3.11.5"
  }
 },
 "nbformat": 4,
 "nbformat_minor": 5
}
