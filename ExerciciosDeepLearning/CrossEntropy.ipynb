{
 "cells": [
  {
   "cell_type": "code",
   "execution_count": 1,
   "id": "cee9d12a",
   "metadata": {},
   "outputs": [
    {
     "name": "stdout",
     "output_type": "stream",
     "text": [
      "x = [-2.2 -1.4 -0.8  0.2  0.4  0.8  1.2  2.2  2.9  4.6]\n",
      "y = [0. 0. 1. 0. 1. 1. 1. 1. 1. 1.]\n",
      "p(y) = [0.19 0.33 0.47 0.7  0.74 0.81 0.86 0.94 0.97 0.99]\n",
      "Log Loss / Cross Entropy = 0.3329\n",
      "MSE = 0.1044\n"
     ]
    }
   ],
   "source": [
    "# Importa as classes LogisticRegression, log_loss e mean_squared_error do módulo sklearn\n",
    "from sklearn.linear_model import LogisticRegression\n",
    "from sklearn.metrics import log_loss\n",
    "from sklearn.metrics import mean_squared_error\n",
    "import numpy as np  # Importa a biblioteca numpy para manipulação de arrays\n",
    "\n",
    "# Define arrays numpy para as variáveis independentes (x) e dependentes (y)\n",
    "x = np.array([-2.2, -1.4, -.8, .2, .4, .8, 1.2, 2.2, 2.9, 4.6])\n",
    "y = np.array([0.0, 0.0, 1.0, 0.0, 1.0, 1.0, 1.0, 1.0, 1.0, 1.0])\n",
    "\n",
    "# Cria uma instância de LogisticRegression usando o solver 'lbfgs'\n",
    "logr = LogisticRegression(solver='lbfgs')\n",
    "\n",
    "# Ajusta o modelo de regressão logística usando os dados x e y\n",
    "# A função reshape(-1, 1) transforma x em um array de duas dimensões com uma única coluna\n",
    "logr.fit(x.reshape(-1, 1), y)\n",
    "\n",
    "# Faz previsões de probabilidade para os dados x ajustados\n",
    "# predict_proba retorna as probabilidades das classes (coluna 0: probabilidade de classe 0, coluna 1: probabilidade de classe 1)\n",
    "# Pegamos apenas a coluna 1 (probabilidade de y ser 1) e achatamos o array para uma dimensão\n",
    "y_pred = logr.predict_proba(x.reshape(-1, 1))[:, 1].ravel()\n",
    "\n",
    "# Calcula o log loss (ou entropia cruzada) entre os valores reais y e as previsões y_pred\n",
    "loss = log_loss(y, y_pred)\n",
    "\n",
    "# Calcula o erro quadrático médio (MSE) entre os valores reais y e as previsões y_pred\n",
    "loss2 = mean_squared_error(y, y_pred)\n",
    "\n",
    "# Imprime os valores de x, y, as probabilidades previstas (arredondadas para 2 casas decimais), o log loss e o MSE\n",
    "print('x = {}'.format(x))\n",
    "print('y = {}'.format(y))\n",
    "print('p(y) = {}'.format(np.round(y_pred, 2)))\n",
    "print('Log Loss / Cross Entropy = {:.4f}'.format(loss))\n",
    "print('MSE = {:.4f}'.format(loss2))\n"
   ]
  },
  {
   "cell_type": "code",
   "execution_count": null,
   "id": "9f2b0747",
   "metadata": {},
   "outputs": [],
   "source": []
  }
 ],
 "metadata": {
  "kernelspec": {
   "display_name": "Python 3 (ipykernel)",
   "language": "python",
   "name": "python3"
  },
  "language_info": {
   "codemirror_mode": {
    "name": "ipython",
    "version": 3
   },
   "file_extension": ".py",
   "mimetype": "text/x-python",
   "name": "python",
   "nbconvert_exporter": "python",
   "pygments_lexer": "ipython3",
   "version": "3.11.5"
  }
 },
 "nbformat": 4,
 "nbformat_minor": 5
}
