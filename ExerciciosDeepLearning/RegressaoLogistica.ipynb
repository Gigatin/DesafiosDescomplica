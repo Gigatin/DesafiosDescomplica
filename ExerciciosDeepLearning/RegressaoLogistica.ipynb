{
 "cells": [
  {
   "cell_type": "code",
   "execution_count": 2,
   "id": "42a40cfa",
   "metadata": {},
   "outputs": [],
   "source": [
    "#importando bibliotecas\n",
    "import pandas as pd\n",
    "from sklearn.model_selection import train_test_split\n",
    "from sklearn.linear_model import LogisticRegression\n",
    "from sklearn import metrics\n",
    "import seaborn as sn\n",
    "import matplotlib.pyplot as plt"
   ]
  },
  {
   "cell_type": "code",
   "execution_count": 3,
   "id": "57545a12",
   "metadata": {},
   "outputs": [
    {
     "data": {
      "text/html": [
       "<div>\n",
       "<style scoped>\n",
       "    .dataframe tbody tr th:only-of-type {\n",
       "        vertical-align: middle;\n",
       "    }\n",
       "\n",
       "    .dataframe tbody tr th {\n",
       "        vertical-align: top;\n",
       "    }\n",
       "\n",
       "    .dataframe thead th {\n",
       "        text-align: right;\n",
       "    }\n",
       "</style>\n",
       "<table border=\"1\" class=\"dataframe\">\n",
       "  <thead>\n",
       "    <tr style=\"text-align: right;\">\n",
       "      <th></th>\n",
       "      <th>Escrita</th>\n",
       "      <th>Ingles</th>\n",
       "      <th>Artigos Publicados</th>\n",
       "      <th>Resultado</th>\n",
       "    </tr>\n",
       "  </thead>\n",
       "  <tbody>\n",
       "    <tr>\n",
       "      <th>0</th>\n",
       "      <td>89</td>\n",
       "      <td>8</td>\n",
       "      <td>5</td>\n",
       "      <td>1</td>\n",
       "    </tr>\n",
       "    <tr>\n",
       "      <th>1</th>\n",
       "      <td>39</td>\n",
       "      <td>5</td>\n",
       "      <td>1</td>\n",
       "      <td>0</td>\n",
       "    </tr>\n",
       "    <tr>\n",
       "      <th>2</th>\n",
       "      <td>40</td>\n",
       "      <td>2</td>\n",
       "      <td>1</td>\n",
       "      <td>0</td>\n",
       "    </tr>\n",
       "    <tr>\n",
       "      <th>3</th>\n",
       "      <td>14</td>\n",
       "      <td>1</td>\n",
       "      <td>0</td>\n",
       "      <td>0</td>\n",
       "    </tr>\n",
       "    <tr>\n",
       "      <th>4</th>\n",
       "      <td>26</td>\n",
       "      <td>4</td>\n",
       "      <td>1</td>\n",
       "      <td>0</td>\n",
       "    </tr>\n",
       "  </tbody>\n",
       "</table>\n",
       "</div>"
      ],
      "text/plain": [
       "   Escrita  Ingles  Artigos Publicados  Resultado\n",
       "0       89       8                   5          1\n",
       "1       39       5                   1          0\n",
       "2       40       2                   1          0\n",
       "3       14       1                   0          0\n",
       "4       26       4                   1          0"
      ]
     },
     "execution_count": 3,
     "metadata": {},
     "output_type": "execute_result"
    }
   ],
   "source": [
    "#lendo dataset\n",
    "df = pd.read_excel('DadosRegressao2.xlsx')\n",
    "df.head()\n",
    "\n",
    "\n",
    "#Concurso, resultado = 1 aprovado, 0 reprovado"
   ]
  },
  {
   "cell_type": "code",
   "execution_count": 3,
   "id": "f1fc7092",
   "metadata": {},
   "outputs": [
    {
     "data": {
      "text/plain": [
       "<bound method DataFrame.info of     Escrita  Ingles  Artigos Publicados  Resultado\n",
       "0        89       8                   5          1\n",
       "1        39       5                   1          0\n",
       "2        40       2                   1          0\n",
       "3        14       1                   0          0\n",
       "4        26       4                   1          0\n",
       "5        57       8                   2          1\n",
       "6        46       6                   1          0\n",
       "7        35       2                   2          0\n",
       "8        67       4                   1          1\n",
       "9        86       6                   3          1\n",
       "10       54       3                   4          1\n",
       "11       34       4                   1          0\n",
       "12       26       1                   2          0\n",
       "13       67       8                   1          1\n",
       "14       36       4                   2          0\n",
       "15       34       1                   1          0\n",
       "16       13       2                   0          0\n",
       "17       67       5                   2          1\n",
       "18       54       6                   2          0\n",
       "19       31       3                   1          0\n",
       "20       75       8                   5          1\n",
       "21       69       9                   6          1\n",
       "22       98      10                  10          1\n",
       "23       90       9                  11          1>"
      ]
     },
     "execution_count": 3,
     "metadata": {},
     "output_type": "execute_result"
    }
   ],
   "source": [
    "#checando dataset\n",
    "df.info"
   ]
  },
  {
   "cell_type": "code",
   "execution_count": 4,
   "id": "249a48c8",
   "metadata": {},
   "outputs": [],
   "source": [
    "#separando x e y para o treino\n",
    "X = df[['Escrita', 'Ingles','Artigos Publicados']]\n",
    "y = df['Resultado']\n",
    "X_train,X_test,y_train,y_test = train_test_split(X,y,test_size=0.25,random_state=0)"
   ]
  },
  {
   "cell_type": "code",
   "execution_count": 5,
   "id": "442f0999",
   "metadata": {},
   "outputs": [],
   "source": [
    "#aplicando função de regressão logisitica  no conjunto de treino\n",
    "logistic_regression= LogisticRegression()\n",
    "logistic_regression.fit(X_train,y_train)\n",
    "y_pred=logistic_regression.predict(X_test)"
   ]
  },
  {
   "cell_type": "code",
   "execution_count": 6,
   "id": "21e65f60",
   "metadata": {},
   "outputs": [
    {
     "data": {
      "text/plain": [
       "<Axes: xlabel='Predicted', ylabel='Actual'>"
      ]
     },
     "execution_count": 6,
     "metadata": {},
     "output_type": "execute_result"
    },
    {
     "data": {
      "image/png": "[encoded data removed]",
      "text/plain": [
       "<Figure size 640x480 with 2 Axes>"
      ]
     },
     "metadata": {},
     "output_type": "display_data"
    }
   ],
   "source": [
    "#matrix de confusão\n",
    "confusion_matrix = pd.crosstab(y_test, y_pred, rownames=['Actual'], colnames=['Predicted'])\n",
    "sn.heatmap(confusion_matrix, annot=True)\n",
    "\n",
    "# 3 verdadeiros positivos\n",
    "# 1 falso negativo\n",
    "# 2 falsos positivo"
   ]
  },
  {
   "cell_type": "code",
   "execution_count": 7,
   "id": "588f889c",
   "metadata": {},
   "outputs": [
    {
     "name": "stdout",
     "output_type": "stream",
     "text": [
      "Accuracy:  0.8333333333333334\n",
      "Precision:  1.0\n",
      "Recall:  0.6666666666666666\n",
      "F-Score:  0.8\n"
     ]
    }
   ],
   "source": [
    "#aplicando resultados\n",
    "print('Accuracy: ',metrics.accuracy_score(y_test, y_pred))\n",
    "print('Precision: ',metrics.precision_score(y_test, y_pred))\n",
    "print('Recall: ',metrics.recall_score(y_test, y_pred))\n",
    "print('F-Score: ',metrics.f1_score(y_test, y_pred))\n",
    "plt.show()"
   ]
  },
  {
   "cell_type": "code",
   "execution_count": 8,
   "id": "a34c4f3c",
   "metadata": {},
   "outputs": [
    {
     "name": "stdout",
     "output_type": "stream",
     "text": [
      "   Escrita  Ingles  Artigos Publicados\n",
      "0       60       6                  10\n",
      "[1]\n"
     ]
    }
   ],
   "source": [
    "\n",
    "teste = {'Escrita': 60, 'Ingles': 6, 'Artigos Publicados': 10}\n",
    "dft = pd.DataFrame(data = teste,index=[0])\n",
    "print(dft)\n",
    "resultado = logistic_regression.predict(dft)\n",
    "print(resultado)\n",
    "     "
   ]
  },
  {
   "cell_type": "code",
   "execution_count": null,
   "id": "59c8a396",
   "metadata": {},
   "outputs": [],
   "source": []
  }
 ],
 "metadata": {
  "kernelspec": {
   "display_name": "Python 3 (ipykernel)",
   "language": "python",
   "name": "python3"
  },
  "language_info": {
   "codemirror_mode": {
    "name": "ipython",
    "version": 3
   },
   "file_extension": ".py",
   "mimetype": "text/x-python",
   "name": "python",
   "nbconvert_exporter": "python",
   "pygments_lexer": "ipython3",
   "version": "3.11.5"
  }
 },
 "nbformat": 4,
 "nbformat_minor": 5
}
