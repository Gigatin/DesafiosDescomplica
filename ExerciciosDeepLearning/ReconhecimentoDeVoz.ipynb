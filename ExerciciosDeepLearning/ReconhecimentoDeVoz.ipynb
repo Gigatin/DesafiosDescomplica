{
 "cells": [
  {
   "cell_type": "code",
   "execution_count": 3,
   "id": "ab6b3ef9",
   "metadata": {},
   "outputs": [],
   "source": [
    "#pip install pipwin\n",
    "#pipwin install pyaudio\n",
    "#pip install SpeechRecognition\n",
    "import speech_recognition as sr\n",
    "\n",
    "rec = sr.Recognizer()\n",
    "\n",
    "#mostra os microfones:\n",
    "#print(sr.Microphone().list_microphone_names())\n",
    "\n",
    "with sr.Microphone(0) as mic:\n",
    "    rec.adjust_for_ambient_noise(mic)\n",
    "    print(\"Pode falar que eu vou gravar\")\n",
    "    audio = rec.listen(mic)\n",
    "    texto = rec.recognize_google(audio, language=\"pt-BR\")\n",
    "    print(texto)\n",
    "#o texto falado vai ser impresso pelo python"
   ]
  },
  {
   "cell_type": "code",
   "execution_count": null,
   "id": "4d3cb46b",
   "metadata": {},
   "outputs": [],
   "source": []
  }
 ],
 "metadata": {
  "kernelspec": {
   "display_name": "Python 3 (ipykernel)",
   "language": "python",
   "name": "python3"
  },
  "language_info": {
   "codemirror_mode": {
    "name": "ipython",
    "version": 3
   },
   "file_extension": ".py",
   "mimetype": "text/x-python",
   "name": "python",
   "nbconvert_exporter": "python",
   "pygments_lexer": "ipython3",
   "version": "3.11.5"
  }
 },
 "nbformat": 4,
 "nbformat_minor": 5
}
